{
 "cells": [
  {
   "attachments": {},
   "cell_type": "markdown",
   "metadata": {},
   "source": [
    "## Root Finding Algorithms\n",
    "\n",
    "Root Finding Algorithms are numerical methods to compute the zeros or roots of a function. Roots of a fucntion are defined as the point where, value of the funcion goes to zero. i.e $f(x) = 0$ then $x$ is called a root.\n",
    "\n",
    "Root finding Algorithms are as important as any other algorithm. Since solving algebric equation $f(x) = g(x)$ is same as finding root of the function $f(x) - g(x)$. Hence every algebric equation can be solved using this. Some higher level algorithms depend directly on root finding and as Gauss Quadrature algorithm depend on finding the roots of legendre's polynomail. This makes it extremly important. \n",
    "\n",
    "Most of the root finding algorithms are iterative in nature. In short we produce a squece that converges to the root of the fuction. In those algorithms we are going to analysis the graph and find a shortcut to compute the roots. \n",
    "\n",
    "These algorithms give as approximately the root of this equation since we can't take the iteration to infinty on a computer. But these approximation are quite wide and good. \n"
   ]
  },
  {
   "attachments": {},
   "cell_type": "markdown",
   "metadata": {},
   "source": [
    "## Bisection Method"
   ]
  },
  {
   "attachments": {},
   "cell_type": "markdown",
   "metadata": {},
   "source": [
    "Bisection method helps us to find the roots of an function using binary search algrithm. In this method we are given a range $[upper bound, lower bound]$ in which the roots lie. "
   ]
  },
  {
   "cell_type": "code",
   "execution_count": 1,
   "metadata": {},
   "outputs": [],
   "source": [
    "def bisection(f,a,b): #bisection(function, lower bound,upperbound)\n",
    "    tol = 1e-4 #setting a tolrence for the soltution\n",
    "    max_iter = 1e4 #making sure that it doesn't go infinitely\n",
    "    count = 0 #counting total iterations\n",
    "    low = a\n",
    "    high = b\n",
    "    if f(a)*f(b)>0:\n",
    "        return 'Invalid Boundiries Please Try again!'\n",
    "    else:\n",
    "        while abs(high-low)>tol and count<max_iter:\n",
    "            mid = (low+high)/2\n",
    "            if f(mid)*f(low)>0:\n",
    "                low = mid\n",
    "            elif f(mid)*f(high)>0:\n",
    "                high = mid\n",
    "            count += 1\n",
    "    print(f'Total iterations = {count}')\n",
    "    return mid\n",
    "\n"
   ]
  },
  {
   "cell_type": "code",
   "execution_count": 2,
   "metadata": {},
   "outputs": [
    {
     "name": "stdout",
     "output_type": "stream",
     "text": [
      "Total iterations = 15\n"
     ]
    },
    {
     "data": {
      "text/plain": [
       "1.414215087890625"
      ]
     },
     "execution_count": 2,
     "metadata": {},
     "output_type": "execute_result"
    }
   ],
   "source": [
    "def f1(x):\n",
    "    return x**2-2\n",
    "bisection(f1,0,3)"
   ]
  },
  {
   "attachments": {},
   "cell_type": "markdown",
   "metadata": {},
   "source": [
    "# Newton Rampson Method\n",
    "\n",
    "Let $f(x)$ be a smooth and continuous function and $x_r$ be an unknown root of $f(x)$. Now assume that $x_0$ is a guess for $x_r$. Unless $x_0$ is a very lucky guess, $f(x_0)$ will not be a root. Given this scenario, we want to find an $x_1$ that is an improvement on $x_0$ (i.e., closer to $x_r$ than $x_0$). If we assume that $x_0$ is \"close enough\" to $x_r$, then we can improve upon it by taking the linear approximation of $f(x)$ around $x_0$, which is a line, and finding the intersection of this line with the x-axis. Written out, the linear approximation of $f(x)$ around $x_0$ is $f(x) \\approx f(x_0) + f^{\\prime}(x_0)(x-x_0)$. Using this approximation, we find $x_1$ such that $f(x_1) = 0$. Plugging these values into the linear approximation results in the equation\n",
    "\n",
    "$$\n",
    "0 = f(x_0) + f^{\\prime}(x_0)(x_1-x_0),\n",
    "$$\n",
    "which when solved for $x_1$ is\n",
    "$$\n",
    "x_1 = x_0 - \\frac{f(x_0)}{f^{\\prime}(x_0)}.\n",
    "$$\n",
    "\n",
    "An illustration of how this linear approximation improves an initial guess is shown in the following figure.\n",
    " \n",
    "\n",
    "<img src=\"https://pythonnumericalmethods.berkeley.edu/_images/19.04.01-Newton-step.png\" alt=\"Newton Step\" title=\"Illustration of Newton step for a smooth function, g(x).\" width=\"200\"/>\n",
    "\n",
    "Written generally, a **Newton step** computes an improved guess, $x_i$, using a previous guess $x_{i-1}$, and is given by the equation\n",
    "\n",
    "$$\n",
    "x_i = x_{i-1} - \\frac{g(x_{i-1})}{g^{\\prime}(x_{i-1})}.\n",
    "$$\n",
    "\n",
    "The **Newton-Raphson Method** of finding roots iterates Newton steps from $x_0$ until the error is less than the tolerance.\n",
    "\n",
    "**TRY IT!** Again, the $\\sqrt{2}$ is the root of the function $f(x) = x^2 - 2$. Using $x_0 = 1.4$ as a starting point, use the previous equation to estimate $\\sqrt{2}$. Compare this approximation with the value computed by Python's sqrt function.\n",
    "\n",
    "$$\n",
    "x = 1.4 - \\frac{1.4^2 - 2}{2(1.4)} = 1.4142857142857144\n",
    "$$"
   ]
  },
  {
   "cell_type": "code",
   "execution_count": 3,
   "metadata": {},
   "outputs": [],
   "source": [
    "#defing diffretial opretor using centeral difference\n",
    "def derrivative(f):\n",
    "    h = 0.0001\n",
    "    def g(x):\n",
    "        return round((f(x+h)-f(x))/h,3)\n",
    "    return g"
   ]
  },
  {
   "cell_type": "code",
   "execution_count": 4,
   "metadata": {},
   "outputs": [],
   "source": [
    "def Newton_rampson(f,x0):\n",
    "    tol = 0.00001\n",
    "    f_prime = derrivative(f)\n",
    "    try:\n",
    "        x1 = x0 - f(x0)/f_prime(x0)\n",
    "        if abs(x0-x1)<tol:\n",
    "            return x1\n",
    "        else:\n",
    "            return Newton_rampson(f,x1)\n",
    "    except ZeroDivisionError:\n",
    "        return 'Slope is Zero, Method Failed'"
   ]
  },
  {
   "cell_type": "code",
   "execution_count": 5,
   "metadata": {
    "scrolled": true
   },
   "outputs": [
    {
     "data": {
      "text/plain": [
       "1.4142135624173318"
      ]
     },
     "execution_count": 5,
     "metadata": {},
     "output_type": "execute_result"
    }
   ],
   "source": [
    "Newton_rampson(f1, 3)"
   ]
  },
  {
   "attachments": {},
   "cell_type": "markdown",
   "metadata": {},
   "source": [
    "## Secant method \n",
    "\n",
    "## Secant Line Formula\n",
    "\n",
    "Let $f(x)$ be a continuous function on a closed interval $[a,b]$ such that $f(a)f(b) < 0$. A solution of the equation $f(x) = 0$ for $x \\in [a,b]$ is guaranteed by the [Intermediate Value Theorem](https://en.wikipedia.org/wiki/Intermediate_value_theorem). Consider the line connecting the endpoint values $(a,f(a))$ and $(b,f(b))$. The line connecting these two points is called the secant line and is given by the formula\n",
    "\n",
    "$$\n",
    "y = \\frac{f(b) - f(a)}{b - a}(x - a) + f(a)\n",
    "$$\n",
    "\n",
    "The point where the secant line crosses the $x$-axis is\n",
    "\n",
    "$$\n",
    "0 = \\frac{f(b) - f(a)}{b - a}(x - a) + f(a)\n",
    "$$\n",
    "\n",
    "which we solve for $x$\n",
    "\n",
    "$$\n",
    "x = a - f(a)\\frac{b - a}{f(b) - f(a)}\n",
    "$$"
   ]
  },
  {
   "cell_type": "code",
   "execution_count": 6,
   "metadata": {},
   "outputs": [],
   "source": [
    "def secant(f,x0,x1): #secant(function, lower bound,upperbound)\n",
    "    tol = 1e-6 #setting a tolrence for the soltution\n",
    "    max_iter = 1e4 #making sure that it doesn't go infinitely\n",
    "    count = 0 #counting total iterations\n",
    "    while abs(x0-x1)>tol and count<max_iter:\n",
    "        x2 = x0 + (x1-x0)*f(x0)/(f(x0)-f(x1))\n",
    "        x0 ,x1 = x1,x2\n",
    "        count += 1\n",
    "    print(f'Total iterations = {count}')\n",
    "    return x2\n"
   ]
  },
  {
   "cell_type": "code",
   "execution_count": 7,
   "metadata": {},
   "outputs": [
    {
     "name": "stdout",
     "output_type": "stream",
     "text": [
      "Total iterations = 7\n"
     ]
    },
    {
     "data": {
      "text/plain": [
       "1.4142135623730947"
      ]
     },
     "execution_count": 7,
     "metadata": {},
     "output_type": "execute_result"
    }
   ],
   "source": [
    "secant(f1,0,2)"
   ]
  },
  {
   "cell_type": "code",
   "execution_count": 8,
   "metadata": {},
   "outputs": [],
   "source": [
    "def newton_rampson(f,x0):\n",
    "    tol = 1e-6\n",
    "    max_iter = 1e4\n",
    "    count = 0\n",
    "    f_prime = derrivative(f)\n",
    "    try:\n",
    "        while count<max_iter:\n",
    "            x1 = x0 - f(x0)/f_prime(x0)\n",
    "            if abs(x0-x1)<tol:\n",
    "                break\n",
    "            x0 = x1\n",
    "            count += 1\n",
    "    except ZeroDivisionError:\n",
    "        return 'Slope is Zero, Method Failed'\n",
    "    print('Total Iteratios = ',count)\n",
    "    return x0"
   ]
  },
  {
   "cell_type": "code",
   "execution_count": 9,
   "metadata": {},
   "outputs": [
    {
     "name": "stdout",
     "output_type": "stream",
     "text": [
      "Total Iteratios =  4\n"
     ]
    },
    {
     "data": {
      "text/plain": [
       "1.414213780908116"
      ]
     },
     "execution_count": 9,
     "metadata": {},
     "output_type": "execute_result"
    }
   ],
   "source": [
    "newton_rampson(f1, 3)"
   ]
  },
  {
   "cell_type": "code",
   "execution_count": 10,
   "metadata": {},
   "outputs": [],
   "source": [
    "import matplotlib.pyplot as plt"
   ]
  },
  {
   "cell_type": "code",
   "execution_count": 11,
   "metadata": {},
   "outputs": [
    {
     "name": "stdout",
     "output_type": "stream",
     "text": [
      "f(3) = 7\n"
     ]
    }
   ],
   "source": [
    "print(f\"f(3) = {f1(3)}\")"
   ]
  },
  {
   "cell_type": "code",
   "execution_count": 12,
   "metadata": {},
   "outputs": [
    {
     "name": "stdout",
     "output_type": "stream",
     "text": [
      "We are the best thing in this world!\n"
     ]
    }
   ],
   "source": [
    "print(\"We are the best thing in this world!\")"
   ]
  },
  {
   "cell_type": "code",
   "execution_count": null,
   "metadata": {},
   "outputs": [],
   "source": []
  }
 ],
 "metadata": {
  "kernelspec": {
   "display_name": "Python 3",
   "language": "python",
   "name": "python3"
  },
  "language_info": {
   "codemirror_mode": {
    "name": "ipython",
    "version": 3
   },
   "file_extension": ".py",
   "mimetype": "text/x-python",
   "name": "python",
   "nbconvert_exporter": "python",
   "pygments_lexer": "ipython3",
   "version": "3.9.2"
  }
 },
 "nbformat": 4,
 "nbformat_minor": 2
}
