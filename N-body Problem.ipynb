{
 "cells": [
  {
   "cell_type": "code",
   "execution_count": 1,
   "id": "absolute-foundation",
   "metadata": {},
   "outputs": [],
   "source": [
    "import math\n",
    "import numpy as np\n",
    "import matplotlib.pyplot as plt\n",
    "from math import sqrt"
   ]
  },
  {
   "cell_type": "code",
   "execution_count": 2,
   "id": "nonprofit-doubt",
   "metadata": {},
   "outputs": [],
   "source": [
    "def COM(Ms, Xs):\n",
    "    s = 0\n",
    "    for i in rage(len(Ms)):\n",
    "        s += Ms[i]*Xs[i]**2\n",
    "    \n",
    "    com = s/sum(Ms)\n",
    "    \n",
    "    return com"
   ]
  },
  {
   "cell_type": "code",
   "execution_count": 3,
   "id": "retained-procurement",
   "metadata": {},
   "outputs": [
    {
     "data": {
      "text/plain": [
       "3.405759081037858e-11"
      ]
     },
     "execution_count": 3,
     "metadata": {},
     "output_type": "execute_result"
    }
   ],
   "source": [
    "a = 1.496e+11\n",
    "b = 12*60*60\n",
    "c = 1e24\n",
    "\n",
    "\n",
    "#calucating g in my units\n",
    "G = 6.11e-11*b**2*c/a**3\n",
    "G"
   ]
  },
  {
   "cell_type": "code",
   "execution_count": 35,
   "id": "unlimited-rebate",
   "metadata": {},
   "outputs": [],
   "source": [
    "#constants:\n",
    "Ms = [1.989e6,0.330,4.87,5.97,0.642,1898,568,86.8,102]\n",
    "steps = 1000\n",
    "ti = 0\n",
    "tf = 100\n",
    "N = len(Ms) #number of total bodies\n",
    "\n",
    "#variabals\n",
    "Xs = np.zeros((steps, N, 3))\n",
    "Vs = np.zeros((steps, N, 3))\n",
    "ts = np.linspace(ti,tf,steps)\n",
    "\n",
    "Xs[0] = [[-995114.977680456, 8.98124266329700E+05,1.58229931598423E+04],\n",
    "        [3.44615441391852E+07 ,-5.26557638532672E+07,-7.61286267143204E+06],\n",
    "        [-6.77779938168010E+07,-8.43597394901336E+07,2.69958030976802E+06],\n",
    "        [-2.77904903569589E+07,1.45531279592339E+08,8.81421672415733E+03],\n",
    "        [9.18866271313871E+07,2.06696061841096E+08,2.05002398237805E+06],\n",
    "        [4.54003785963550E+08,-6.10682430690077E+08,-7.62390632497143E+06],\n",
    "        [8.20351176602562E+08,-1.24706574543561E+09,-1.09761808144217E+07],\n",
    "        [2.29533745289993E+09,1.86512722528805E+09,-2.28093347838273E+07],\n",
    "        [4.40623682311692E+09,-7.81771702943420E+08,-8.54471655924357E+07]]\n",
    "\n",
    "Vs[0] = [[-1.02322911909127E+03,-8.62040073870347E+02,3.22970824014921E+01],\n",
    "        [2.66853110932131E+06,2.52863729277372E+06,-3.81479438257272E+04],\n",
    "        [2.35980800402788E+06,-1.88090247751281E+06,-1.62002003392357E+05],\n",
    "        [-2.57276934940778E+06,-4.78827962928565E+05,-7.40263589142244E+00],\n",
    "        [-1.82981597359163E+06,1.03827381243802E+06,6.66708767010003E+04],\n",
    "        [8.91855173066660E+05,7.26974788682208E+05,-2.29741878167567E+04],\n",
    "        [6.50758615732736E+05,4.56696587751460E+05,-3.39034493618639E+04],\n",
    "        [-3.75348244065152E+05,4.29216592436392E+05,6.45229544743987E+03],\n",
    "        [7.88686712937182E+04,4.65184720928017E+05,-1.13436707185877E+04]]\n",
    "\n",
    "\n",
    "h = np.diff(ts)[0]\n",
    "\n",
    "def ax(x,y,z,step,i):\n",
    "    a = 0\n",
    "    for l in range(N):\n",
    "        if l!=i:\n",
    "            r =((x-Xs[step][l][0])**2 + (y-Xs[step][l][1])**2 + (z-Xs[step][l][2])**2)**0.5\n",
    "            a += -G*Ms[l]*(x-Xs[step][l][0])/r**3\n",
    "    return a\n",
    "#     return -G*x\n",
    "\n",
    "def ay(x,y,z,step,i):\n",
    "    a = 0\n",
    "    \n",
    "    for l in range(N):\n",
    "        if l!=i:\n",
    "            r = ((x-Xs[step][l][0])**2 + (y-Xs[step][l][1])**2 + (z-Xs[step][l][2])**2)**0.5\n",
    "            a += -G*Ms[l]*(y-Xs[step][l][1])/r**3\n",
    "    return a\n",
    "#     return G*y\n",
    "\n",
    "\n",
    "def az(x,y,z,step,i):\n",
    "    a = 0\n",
    "    \n",
    "    for l in range(N):\n",
    "        if l != i:\n",
    "            r =((x-Xs[step][l][0])**2 + (y-Xs[step][l][1])**2 + (z-Xs[step][l][2])**2)**0.5\n",
    "            a += -G*Ms[l]*(z-Xs[step][l][2])/r**3\n",
    "    return a\n",
    "#     return -G*z\n",
    "\n",
    "\n",
    "for step in range(1,steps):\n",
    "    temp = Xs[step-1]\n",
    "    for i in range(N):\n",
    "        Vs[step][i][0] = Vs[step-1][i][0] + ax(temp[i][0],temp[i][1],temp[i][2],step-1,i)*h/2\n",
    "        Vs[step][i][1] = Vs[step-1][i][1] + ay(temp[i][0],temp[i][1],temp[i][2],step-1,i)*h/2\n",
    "        Vs[step][i][2] = Vs[step-1][i][2] + az(temp[i][0],temp[i][1],temp[i][2],step-1,i)*h/2\n",
    "        \n",
    "        Xs[step][i][0] = temp[i][0] + Vs[step][i][0]*h\n",
    "        Xs[step][i][1] = temp[i][1] + Vs[step][i][1]*h\n",
    "        Xs[step][i][2] = temp[i][2] + Vs[step][i][2]*h\n",
    "        \n",
    "        Vs[step][i][0] = Vs[step][i][0] + ax(Xs[step][i][0],Xs[step][i][1],Xs[step][i][2],step,i)*h/2\n",
    "        Vs[step][i][1] = Vs[step][i][1] + ay(Xs[step][i][0],Xs[step][i][1],Xs[step][i][2],step,i)*h/2\n",
    "        Vs[step][i][2] = Vs[step][i][2] + az(Xs[step][i][0],Xs[step][i][1],Xs[step][i][2],step,i)*h/2"
   ]
  },
  {
   "cell_type": "code",
   "execution_count": 36,
   "id": "gorgeous-mechanics",
   "metadata": {},
   "outputs": [],
   "source": [
    "xxs = [Xs[step][2][0] for step in range(steps)]\n",
    "yys = [Xs[step][2][1] for step in range(steps)]"
   ]
  },
  {
   "cell_type": "code",
   "execution_count": 37,
   "id": "silver-business",
   "metadata": {},
   "outputs": [
    {
     "data": {
      "text/plain": [
       "array([[-9.95217403e+05,  8.98037976e+05,  1.58262261e+04],\n",
       "       [ 3.47286644e+07, -5.24026470e+07, -7.61668128e+06],\n",
       "       [-6.75417768e+07, -8.45480180e+07,  2.68336389e+06],\n",
       "       [-2.80480248e+07,  1.45483349e+08,  8.81347572e+03],\n",
       "       [ 9.17034624e+07,  2.06799993e+08,  2.05669774e+06],\n",
       "       [ 4.54093061e+08, -6.10609660e+08, -7.62620604e+06],\n",
       "       [ 8.20416318e+08, -1.24702003e+09, -1.09795746e+07],\n",
       "       [ 2.29529988e+09,  1.86517019e+09, -2.28086889e+07],\n",
       "       [ 4.40624472e+09, -7.81725138e+08, -8.54483011e+07]])"
      ]
     },
     "execution_count": 37,
     "metadata": {},
     "output_type": "execute_result"
    }
   ],
   "source": [
    "Xs[1]"
   ]
  },
  {
   "cell_type": "code",
   "execution_count": 38,
   "id": "amazing-ordering",
   "metadata": {},
   "outputs": [
    {
     "data": {
      "image/png": "[encoded data removed]",
      "text/plain": [
       "<Figure size 1080x720 with 1 Axes>"
      ]
     },
     "metadata": {
      "needs_background": "light"
     },
     "output_type": "display_data"
    }
   ],
   "source": [
    "\n",
    "fig = plt.figure(figsize = (15,10))\n",
    "ax = fig.add_subplot()\n",
    "\n",
    "\n",
    " \n",
    "for i in range(N):\n",
    "    ax.plot(Xs[:,i,0],Xs[:,i,1],linewidth = 1)\n",
    "\n",
    "ax.set(title = 'Orbit projection on xy plane', xlabel = 'x(km)',ylabel = 'y(km)')\n",
    "ax.set_aspect('equal')\n"
   ]
  },
  {
   "cell_type": "code",
   "execution_count": 21,
   "id": "covered-lancaster",
   "metadata": {},
   "outputs": [
    {
     "data": {
      "text/plain": [
       "array([-1023.22911909,  -862.04007387,    32.2970824 ])"
      ]
     },
     "execution_count": 21,
     "metadata": {},
     "output_type": "execute_result"
    }
   ],
   "source": [
    "Vs[step][:][0]"
   ]
  },
  {
   "cell_type": "code",
   "execution_count": 50,
   "id": "circular-resident",
   "metadata": {},
   "outputs": [],
   "source": [
    "def acc(pos, step):\n",
    "    a = np.zeros((N,3))\n",
    "    ax = 0\n",
    "    for i in range(N):\n",
    "        x,y,z = pos[i]\n",
    "        for l in range(N):\n",
    "            for dim in range(3):\n",
    "                if l!=i:\n",
    "                    r =((x-Xs[step][l][0])**2 + (y-Xs[step][l][1])**2 + (z-Xs[step][l][2])**2)**0.5\n",
    "                    ax += -G*Ms[l]*(x-Xs[step][l][0])/r**3\n",
    "                    a[i][dim] = ax\n",
    "    return a"
   ]
  },
  {
   "cell_type": "code",
   "execution_count": 64,
   "id": "italian-mixer",
   "metadata": {},
   "outputs": [
    {
     "name": "stderr",
     "output_type": "stream",
     "text": [
      "<ipython-input-50-ad92e0ee7904>:10: RuntimeWarning: divide by zero encountered in double_scalars\n",
      "  ax += -G*Ms[l]*(x-Xs[step][l][0])/r**3\n",
      "<ipython-input-50-ad92e0ee7904>:10: RuntimeWarning: invalid value encountered in double_scalars\n",
      "  ax += -G*Ms[l]*(x-Xs[step][l][0])/r**3\n",
      "<ipython-input-50-ad92e0ee7904>:9: RuntimeWarning: invalid value encountered in double_scalars\n",
      "  r =((x-Xs[step][l][0])**2 + (y-Xs[step][l][1])**2 + (z-Xs[step][l][2])**2)**0.5\n"
     ]
    }
   ],
   "source": [
    "Xs = np.zeros((steps, N, 3))\n",
    "Vs = np.zeros((steps, N, 3))\n",
    "ts = np.linspace(ti,tf,steps)\n",
    "\n",
    "Xs[0] = [[-995114.977680456, 8.98124266329700E+05,1.58229931598423E+04],\n",
    "        [3.44615441391852E+07 ,-5.26557638532672E+07,-7.61286267143204E+06],\n",
    "        [-6.77779938168010E+07,-8.43597394901336E+07,2.69958030976802E+06],\n",
    "        [-2.77904903569589E+07,1.45531279592339E+08,8.81421672415733E+03],\n",
    "        [9.18866271313871E+07,2.06696061841096E+08,2.05002398237805E+06],\n",
    "        [4.54003785963550E+08,-6.10682430690077E+08,-7.62390632497143E+06],\n",
    "        [8.20351176602562E+08,-1.24706574543561E+09,-1.09761808144217E+07],\n",
    "        [2.29533745289993E+09,1.86512722528805E+09,-2.28093347838273E+07],\n",
    "        [4.40623682311692E+09,-7.81771702943420E+08,-8.54471655924357E+07]]\n",
    "\n",
    "Vs[0] = [[-1.02322911909127E+03,-8.62040073870347E+02,3.22970824014921E+01],\n",
    "        [2.66853110932131E+06,2.52863729277372E+06,-3.81479438257272E+04],\n",
    "        [2.35980800402788E+06,-1.88090247751281E+06,-1.62002003392357E+05],\n",
    "        [-2.57276934940778E+06,-4.78827962928565E+05,-7.40263589142244E+00],\n",
    "        [-1.82981597359163E+06,1.03827381243802E+06,6.66708767010003E+04],\n",
    "        [8.91855173066660E+05,7.26974788682208E+05,-2.29741878167567E+04],\n",
    "        [6.50758615732736E+05,4.56696587751460E+05,-3.39034493618639E+04],\n",
    "        [-3.75348244065152E+05,4.29216592436392E+05,6.45229544743987E+03],\n",
    "        [7.88686712937182E+04,4.65184720928017E+05,-1.13436707185877E+04]]\n",
    "\n",
    "\n",
    "\n",
    "for step in range(1,steps):\n",
    "    temp = Xs[step-1]\n",
    "#     for dim in range(3):\n",
    "    Vs[step][:] = Vs[step-1][:]*acc(Xs[step][:], step-1)*h/2\n",
    "    Xs[step][:] = Xs[step-1][:]*Vs[step][:]*h\n",
    "    Vs[step][:] = Vs[step][:]*acc(Xs[step][:], step)*h/2"
   ]
  },
  {
   "cell_type": "code",
   "execution_count": 65,
   "id": "technical-pacific",
   "metadata": {},
   "outputs": [
    {
     "data": {
      "text/plain": [
       "array([[nan, nan, nan],\n",
       "       [nan, nan, nan],\n",
       "       [nan, nan, nan],\n",
       "       [nan, nan, nan],\n",
       "       [nan, nan, nan],\n",
       "       [nan, nan, nan],\n",
       "       [nan, nan, nan],\n",
       "       [nan, nan, nan],\n",
       "       [nan, nan, nan]])"
      ]
     },
     "execution_count": 65,
     "metadata": {},
     "output_type": "execute_result"
    }
   ],
   "source": [
    "Vs[step][:]"
   ]
  },
  {
   "cell_type": "code",
   "execution_count": 66,
   "id": "caring-registration",
   "metadata": {},
   "outputs": [
    {
     "data": {
      "text/plain": [
       "array([[[-9.95114978e+05,  8.98124266e+05,  1.58229932e+04],\n",
       "        [ 3.44615441e+07, -5.26557639e+07, -7.61286267e+06],\n",
       "        [-6.77779938e+07, -8.43597395e+07,  2.69958031e+06],\n",
       "        ...,\n",
       "        [ 8.20351177e+08, -1.24706575e+09, -1.09761808e+07],\n",
       "        [ 2.29533745e+09,  1.86512723e+09, -2.28093348e+07],\n",
       "        [ 4.40623682e+09, -7.81771703e+08, -8.54471656e+07]],\n",
       "\n",
       "       [[ 9.60744012e-19, -7.31170889e-19,  4.83058863e-22],\n",
       "        [-3.86740372e-05,  5.59944474e-05, -1.22132610e-07],\n",
       "        [ 1.34526512e-04, -1.33457816e-04,  3.67840158e-07],\n",
       "        ...,\n",
       "        [-1.34704930e-03,  1.43707977e-03, -9.38985525e-07],\n",
       "        [ 2.53624661e-03, -2.35665230e-03,  4.33248845e-07],\n",
       "        [-1.16916244e-03,  1.22351102e-03, -3.26102229e-06]],\n",
       "\n",
       "       [[-3.02114809e-47,  1.96739368e-47,  4.94555654e-52],\n",
       "        [ 3.00798840e+17, -4.12682319e+17, -1.35796043e+13],\n",
       "        [-3.10479261e+18, -2.45503857e+18,  5.82810733e+14],\n",
       "        ...,\n",
       "        [ 1.09242410e+20, -8.17893810e+19, -3.96726749e+15],\n",
       "        [ 1.61408305e+20,  1.71503119e+20, -4.73970885e+14],\n",
       "        [ 2.04543701e+19, -1.26252521e+20, -8.20567124e+15]],\n",
       "\n",
       "       ...,\n",
       "\n",
       "       [[            nan,             nan,             nan],\n",
       "        [            nan,             nan,             nan],\n",
       "        [            nan,             nan,             nan],\n",
       "        ...,\n",
       "        [            nan,             nan,             nan],\n",
       "        [            nan,             nan,             nan],\n",
       "        [            nan,             nan,             nan]],\n",
       "\n",
       "       [[            nan,             nan,             nan],\n",
       "        [            nan,             nan,             nan],\n",
       "        [            nan,             nan,             nan],\n",
       "        ...,\n",
       "        [            nan,             nan,             nan],\n",
       "        [            nan,             nan,             nan],\n",
       "        [            nan,             nan,             nan]],\n",
       "\n",
       "       [[            nan,             nan,             nan],\n",
       "        [            nan,             nan,             nan],\n",
       "        [            nan,             nan,             nan],\n",
       "        ...,\n",
       "        [            nan,             nan,             nan],\n",
       "        [            nan,             nan,             nan],\n",
       "        [            nan,             nan,             nan]]])"
      ]
     },
     "execution_count": 66,
     "metadata": {},
     "output_type": "execute_result"
    }
   ],
   "source": [
    "Xs"
   ]
  },
  {
   "cell_type": "code",
   "execution_count": null,
   "id": "strategic-thirty",
   "metadata": {},
   "outputs": [],
   "source": []
  }
 ],
 "metadata": {
  "kernelspec": {
   "display_name": "Python 3",
   "language": "python",
   "name": "python3"
  },
  "language_info": {
   "codemirror_mode": {
    "name": "ipython",
    "version": 3
   },
   "file_extension": ".py",
   "mimetype": "text/x-python",
   "name": "python",
   "nbconvert_exporter": "python",
   "pygments_lexer": "ipython3",
   "version": "3.9.2"
  }
 },
 "nbformat": 4,
 "nbformat_minor": 5
}
