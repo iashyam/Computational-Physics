{
 "cells": [
  {
   "cell_type": "code",
   "execution_count": 1,
   "id": "absolute-foundation",
   "metadata": {},
   "outputs": [],
   "source": [
    "import math\n",
    "import numpy as np\n",
    "import matplotlib.pyplot as plt"
   ]
  },
  {
   "cell_type": "code",
   "execution_count": 2,
   "id": "nonprofit-doubt",
   "metadata": {},
   "outputs": [],
   "source": [
    "def COM(Ms, Xs):\n",
    "    s = 0\n",
    "    for i in rage(len(Ms)):\n",
    "        s += Ms[i]*Xs[i]**2\n",
    "    \n",
    "    com = s/sum(Ms)\n",
    "    \n",
    "    return com"
   ]
  },
  {
   "cell_type": "code",
   "execution_count": 3,
   "id": "retained-procurement",
   "metadata": {},
   "outputs": [],
   "source": [
    "a = 1.496e+11\n",
    "b = 12*60*60\n",
    "c = 1e24\n",
    "\n",
    "\n",
    "#calucating g in my units\n",
    "G = 6.11e-11*b**2*c/a**3"
   ]
  },
  {
   "cell_type": "code",
   "execution_count": 37,
   "id": "unlimited-rebate",
   "metadata": {},
   "outputs": [],
   "source": [
    "#constants:\n",
    "Ms = [1.989e6,0.330,4.87,5.97,0.642,1898,568,86.8,102]\n",
    "steps = 1000\n",
    "ti = 0\n",
    "tf = 100\n",
    "N = len(Ms) #number of total bodies\n",
    "\n",
    "#variabals\n",
    "Xs = np.zeros((steps, N, 3))\n",
    "Vs = np.zeros((steps, N, 3))\n",
    "ts = np.linspace(ti,tf,steps)\n",
    "\n",
    "Xs[0] = [[-995114.977680456, 8.98124266329700E+05,1.58229931598423E+04],\n",
    "        [3.44615441391852E+07 ,-5.26557638532672E+07,-7.61286267143204E+06],\n",
    "        [-6.77779938168010E+07,-8.43597394901336E+07,2.69958030976802E+06],\n",
    "        [-2.77904903569589E+07,1.45531279592339E+08,8.81421672415733E+03],\n",
    "        [9.18866271313871E+07,2.06696061841096E+08,2.05002398237805E+06],\n",
    "        [4.54003785963550E+08,-6.10682430690077E+08,-7.62390632497143E+06],\n",
    "        [8.20351176602562E+08,-1.24706574543561E+09,-1.09761808144217E+07],\n",
    "        [2.29533745289993E+09,1.86512722528805E+09,-2.28093347838273E+07],\n",
    "        [4.40623682311692E+09,-7.81771702943420E+08,-8.54471655924357E+07]]\n",
    "\n",
    "Vs[0] = [[-1.02322911909127E+03,-8.62040073870347E+02,3.22970824014921E+01],\n",
    "        [2.66853110932131E+06,2.52863729277372E+06,-3.81479438257272E+04],\n",
    "        [2.35980800402788E+06,-1.88090247751281E+06,-1.62002003392357E+05],\n",
    "        [-2.57276934940778E+06,-4.78827962928565E+05,-7.40263589142244E+00],\n",
    "        [-1.82981597359163E+06,1.03827381243802E+06,6.66708767010003E+04],\n",
    "        [8.91855173066660E+05,7.26974788682208E+05,-2.29741878167567E+04],\n",
    "        [6.50758615732736E+05,4.56696587751460E+05,-3.39034493618639E+04],\n",
    "        [-3.75348244065152E+05,4.29216592436392E+05,6.45229544743987E+03],\n",
    "        [7.88686712937182E+04,4.65184720928017E+05,-1.13436707185877E+04]]\n",
    "\n",
    "\n",
    "h = np.diff(ts)[0]\n",
    "\n",
    "def ax(x,y,z,step,i):\n",
    "    a = 0\n",
    "    for l in range(N):\n",
    "        if l!=i:\n",
    "            r =((x-Xs[step][l][0])**2 + (y-Xs[step][l][1])**2 + (z-Xs[step][l][2])**2)**0.5\n",
    "            a += -G*Ms[l]*(x-Xs[step][l][0])/r**3\n",
    "    return a\n",
    "#     return -G*x\n",
    "\n",
    "def ay(x,y,z,step,i):\n",
    "    a = 0\n",
    "    \n",
    "    for l in range(N):\n",
    "        if l!=i:\n",
    "            r = ((x-Xs[step][l][0])**2 + (y-Xs[step][l][1])**2 + (z-Xs[step][l][2])**2)**0.5\n",
    "            a += -G*Ms[l]*(y-Xs[step][l][1])/r**3\n",
    "    return a\n",
    "#     return G*y\n",
    "\n",
    "\n",
    "def az(x,y,z,step,i):\n",
    "    a = 0\n",
    "    \n",
    "    for l in range(N):\n",
    "        if l != i:\n",
    "            r =((x-Xs[step][l][0])**2 + (y-Xs[step][l][1])**2 + (z-Xs[step][l][2])**2)**0.5\n",
    "            a += -G*Ms[l]*(z-Xs[step][l][2])/r**3\n",
    "    return a\n",
    "#     return -G*z\n",
    "\n",
    "\n",
    "for step in range(1,steps):\n",
    "    for i in range(N):\n",
    "        Vs[step][i][0] = Vs[step-1][i][0] + ax(Xs[step-1][i][0],Xs[step-1][i][1],Xs[step-1][i][2],step-1,i)*h/2\n",
    "        Vs[step][i][1] = Vs[step-1][i][1] + ay(Xs[step-1][i][0],Xs[step-1][i][1],Xs[step-1][i][2],step-1,i)*h/2\n",
    "        Vs[step][i][2] = Vs[step-1][i][2] + az(Xs[step-1][i][0],Xs[step-1][i][1],Xs[step-1][i][2],step-1,i)*h/2\n",
    "        \n",
    "        Xs[step][i][0] = Xs[step-1][i][0] + Vs[step][i][0]*h\n",
    "        Xs[step][i][1] = Xs[step-1][i][1] + Vs[step][i][1]*h\n",
    "        Xs[step][i][2] = Xs[step-1][i][2] + Vs[step][i][2]*h\n",
    "        \n",
    "        Vs[step][i][0] = Vs[step][i][0] + ax(Xs[step][i][0],Xs[step][i][1],Xs[step][i][2],step,i)*h/2\n",
    "        Vs[step][i][1] = Vs[step][i][1] + ay(Xs[step][i][0],Xs[step][i][1],Xs[step][i][2],step,i)*h/2\n",
    "        Vs[step][i][2] = Vs[step][i][2] + az(Xs[step][i][0],Xs[step][i][1],Xs[step][i][2],step,i)*h/2"
   ]
  },
  {
   "cell_type": "code",
   "execution_count": 38,
   "id": "gorgeous-mechanics",
   "metadata": {},
   "outputs": [
    {
     "data": {
      "text/plain": [
       "[<matplotlib.lines.Line2D at 0x7f5c6288f490>]"
      ]
     },
     "execution_count": 38,
     "metadata": {},
     "output_type": "execute_result"
    },
    {
     "data": {
      "image/png": "[encoded data removed]",
      "text/plain": [
       "<Figure size 432x288 with 1 Axes>"
      ]
     },
     "metadata": {
      "needs_background": "light"
     },
     "output_type": "display_data"
    }
   ],
   "source": [
    "plt.plot([Xs[step][2][0] for step in range(steps)],[Xs[step][2][1] for step in range(steps)])\n",
    "# plt.xlim(-272449987.2414148,-84359739.4901336)"
   ]
  },
  {
   "cell_type": "code",
   "execution_count": 6,
   "id": "returning-probability",
   "metadata": {},
   "outputs": [],
   "source": [
    "xxs = [Xs[step][2][0] for step in range(steps)]"
   ]
  },
  {
   "cell_type": "code",
   "execution_count": 7,
   "id": "successful-championship",
   "metadata": {},
   "outputs": [
    {
     "name": "stdout",
     "output_type": "stream",
     "text": [
      "-67777993.816801\n",
      "168202804.73423365\n"
     ]
    }
   ],
   "source": [
    "print(min(xxs))\n",
    "print(max(xxs))"
   ]
  },
  {
   "cell_type": "code",
   "execution_count": 24,
   "id": "through-cleaning",
   "metadata": {},
   "outputs": [
    {
     "name": "stdout",
     "output_type": "stream",
     "text": [
      "1\n",
      "3\n",
      "5\n"
     ]
    }
   ],
   "source": [
    "for i in range(20):\n",
    "    if i%2 == 0:\n",
    "        continue\n",
    "    elif i%10==7:\n",
    "        break\n",
    "    else:\n",
    "        print(i)"
   ]
  },
  {
   "cell_type": "code",
   "execution_count": 40,
   "id": "improving-priority",
   "metadata": {},
   "outputs": [
    {
     "data": {
      "text/plain": [
       "1900"
      ]
     },
     "execution_count": 40,
     "metadata": {},
     "output_type": "execute_result"
    }
   ],
   "source": [
    "9000-7400-300+600"
   ]
  },
  {
   "cell_type": "code",
   "execution_count": null,
   "id": "silver-business",
   "metadata": {},
   "outputs": [],
   "source": []
  }
 ],
 "metadata": {
  "kernelspec": {
   "display_name": "Python 3",
   "language": "python",
   "name": "python3"
  },
  "language_info": {
   "codemirror_mode": {
    "name": "ipython",
    "version": 3
   },
   "file_extension": ".py",
   "mimetype": "text/x-python",
   "name": "python",
   "nbconvert_exporter": "python",
   "pygments_lexer": "ipython3",
   "version": "3.9.2"
  }
 },
 "nbformat": 4,
 "nbformat_minor": 5
}
