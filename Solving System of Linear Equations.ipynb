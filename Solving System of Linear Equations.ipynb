{
 "cells": [
  {
   "cell_type": "markdown",
   "metadata": {},
   "source": [
    "# Solving System of Linear Equations\n",
    "\n"
   ]
  },
  {
   "cell_type": "markdown",
   "metadata": {},
   "source": [
    "1. Gaussian Elimination\n",
    "2. Gauss-Jordan Elimination\n",
    "3. LU Decomposition\n",
    "4. Inverse Matrix\n",
    "5. Gauss-Sidel Iteration \n",
    "6. Jecobi interation Method"
   ]
  },
  {
   "cell_type": "markdown",
   "metadata": {},
   "source": [
    "## Gaussian Elimination"
   ]
  },
  {
   "cell_type": "markdown",
   "metadata": {},
   "source": [
    "Consdier a set of linear equations represented by the the matrix equation\n",
    "\n",
    "$$MX = B$$\n",
    "\n",
    "Where $M$ is called the _cofficient matrix_ and $B$ is called _Constant Matrix_."
   ]
  },
  {
   "cell_type": "code",
   "execution_count": 109,
   "metadata": {},
   "outputs": [],
   "source": [
    "import numpy as np"
   ]
  },
  {
   "cell_type": "code",
   "execution_count": 128,
   "metadata": {},
   "outputs": [],
   "source": [
    "B = np.array([14,13,17])\n",
    "M = np.array([[1,5,1],[2,1,3],[3,1,4]])"
   ]
  },
  {
   "cell_type": "code",
   "execution_count": 174,
   "metadata": {},
   "outputs": [],
   "source": [
    "# def LU_decomposition(M,B):\n",
    "#get number of unknowns\n",
    "n = len(B)\n",
    "\n",
    "#<---variables--->\n",
    "L = np.zeros((n,n))\n",
    "U = np.zeros((n,n))\n",
    "y = np.zeros(n)\n",
    "x = np.zeros(n)\n",
    "        \n",
    "#getting the U matrix\n",
    "for i in range(n):\n",
    "    for j in range(i,n):\n",
    "        s = 0 #dummy var for sum\n",
    "        for k in range(i):\n",
    "            s += L[i][k]*U[k][j]\n",
    "        U[i][j] = M[i][j] -s\n",
    "        \n",
    "#getting L Matrix\n",
    "# for i in range(n):\n",
    "    L[i][i] = 1\n",
    "    for j in range(i):\n",
    "        s = 0\n",
    "        for k in range(j):\n",
    "            s += L[i][k]*U[k][j]\n",
    "        L[i][j] = (M[i][j] - s)/U[j][j]"
   ]
  },
  {
   "cell_type": "code",
   "execution_count": 178,
   "metadata": {},
   "outputs": [
    {
     "data": {
      "text/plain": [
       "array([[  1.,   5.,   1.],\n",
       "       [  2.,  11.,   5.],\n",
       "       [  3.,   1., -35.]])"
      ]
     },
     "execution_count": 178,
     "metadata": {},
     "output_type": "execute_result"
    }
   ],
   "source": [
    "]"
   ]
  },
  {
   "cell_type": "code",
   "execution_count": null,
   "metadata": {},
   "outputs": [],
   "source": []
  }
 ],
 "metadata": {
  "kernelspec": {
   "display_name": "Python 3",
   "language": "python",
   "name": "python3"
  },
  "language_info": {
   "codemirror_mode": {
    "name": "ipython",
    "version": 3
   },
   "file_extension": ".py",
   "mimetype": "text/x-python",
   "name": "python",
   "nbconvert_exporter": "python",
   "pygments_lexer": "ipython3",
   "version": "3.9.2"
  }
 },
 "nbformat": 4,
 "nbformat_minor": 4
}
