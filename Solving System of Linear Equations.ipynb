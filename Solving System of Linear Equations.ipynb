{
 "cells": [
  {
   "cell_type": "markdown",
   "metadata": {},
   "source": [
    "# Solving System of Linear Equations\n",
    "\n"
   ]
  },
  {
   "cell_type": "markdown",
   "metadata": {},
   "source": [
    "1. Gaussian Elimination\n",
    "1. LU Decomposition\n",
    "1. Inverse Matrix\n",
    "1. Gauss-Sidel Iteration \n",
    "1. Jecobi interation Method"
   ]
  },
  {
   "cell_type": "markdown",
   "metadata": {},
   "source": [
    "## Gaussian Elimination"
   ]
  },
  {
   "cell_type": "markdown",
   "metadata": {},
   "source": [
    "In gaussian elimination method we find a row achilion matrix for the equation and just do back susbtitution. "
   ]
  },
  {
   "cell_type": "code",
   "execution_count": 23,
   "metadata": {},
   "outputs": [],
   "source": [
    "import numpy as np"
   ]
  },
  {
   "cell_type": "code",
   "execution_count": 61,
   "metadata": {},
   "outputs": [],
   "source": [
    "B = np.array([14.,13.,17.])\n",
    "M = np.array([[1.,5.,1.],[2.,1.,3.],[3.,1.,4.]])"
   ]
  },
  {
   "cell_type": "code",
   "execution_count": 59,
   "metadata": {},
   "outputs": [],
   "source": [
    "def gaussianElimination(M,B):\n",
    "    n = len(B)\n",
    "    x = np.zeros(n)\n",
    "\n",
    "    if \n",
    "    for i in range(n-1):\n",
    "        for j in range(i+1,n):\n",
    "            fector = M[j][i]/M[i][i]\n",
    "            for k in range(i,n):\n",
    "                M[j][k] += -M[i][k]*fector\n",
    "            B[j] -= B[i]*fector\n",
    "\n",
    "    #backsubstitution\n",
    "    for i in range(n-1,-1,-1):\n",
    "        s = 0\n",
    "        for j in range(i,n):\n",
    "            s += M[i][j]*x[j]\n",
    "        x[i] = (B[i]-s)/M[i][i]\n",
    "    return x"
   ]
  },
  {
   "cell_type": "code",
   "execution_count": 60,
   "metadata": {},
   "outputs": [
    {
     "data": {
      "text/plain": [
       "array([1., 2., 3.])"
      ]
     },
     "execution_count": 60,
     "metadata": {},
     "output_type": "execute_result"
    }
   ],
   "source": [
    "gaussianElimination(M,B)"
   ]
  },
  {
   "cell_type": "markdown",
   "metadata": {},
   "source": [
    "## LU Decomposition"
   ]
  },
  {
   "cell_type": "markdown",
   "metadata": {},
   "source": [
    "Consdier a set of linear equations represented by the the matrix equation\n",
    "\n",
    "$$MX = B$$\n",
    "\n",
    "Where $M$ is called the _cofficient matrix_ and $B$ is called _Constant Matrix_.\n",
    "\n",
    "We can decompose this matrix $M$ into two matrix $L$ and  $L$ where L is a lower triangular matrix and U is an upper triangular matrix. Such that\n",
    "\n",
    "$$ M = LU $$\n",
    "\n",
    "\n",
    "Now putting back into the  euqation we get\n",
    "$$ LUX = B $$\n",
    "\n",
    "We can see this as two sperate diffrential equations as\n",
    "$$LY = B$$ and\n",
    "$$UX = Y$$\n",
    "\n",
    "\n",
    "Because $L$ and $U$ are triangular matrices, these eqution leads to just substiution. We first get $Y$ by forth susbtitution with $L$ and then we do back susbtitution with U and get X.\n",
    "\n",
    "#### Getting L and U matrix:\n",
    "\n",
    "The relation to get U and L matrix are given below\n",
    "\n",
    "$$U_{ij} = a_{ij} - \\sum_{k=0}^{i-1}L_{ik}U_{kj} $$\n",
    "$$ L_{ij} =\\frac{1}{U_{jj}}( a_{ij} - \\sum_{k=0}^{j-1}L_{ik}U_{kj}) $$\n",
    "\n",
    "\n",
    "\n",
    "If we look for this for a moment, it might seem complicated because L depends on U and U depand on L. The way out of this is suggested by Dr. Gajendra Purohit. We calculate first row of U matrix because for first row we don't need the sum. Then we calculate the first column of L matrix using it. The we calculate second row of U matrix, here we need the sum and we have already calculted the needed part. Then we calculate second column of L matirx. Hence one row of U and one column of L going on.."
   ]
  },
  {
   "cell_type": "code",
   "execution_count": 47,
   "metadata": {},
   "outputs": [],
   "source": [
    "#a function to get L and U matrix seperately\n",
    "def LU_decomposition(M,B):\n",
    "    \n",
    "    #get number of unknowns\n",
    "    n = len(B)\n",
    "\n",
    "    #<---variables--->\n",
    "    L = np.zeros((n,n))\n",
    "    U = np.zeros((n,n))\n",
    "    \n",
    "    for i in range(n):\n",
    "        \n",
    "        #getting the U matrix\n",
    "        for j in range(i,n):\n",
    "            s = 0 #dummy var for sum\n",
    "            for k in range(i):\n",
    "                s += L[i][k]*U[k][j]\n",
    "            U[i][j] = M[i][j] -s\n",
    "\n",
    "        #getting L Matrix\n",
    "        for j in range(i,n):\n",
    "            s = 0\n",
    "            for k in range(i):\n",
    "                s += L[j][k]*U[k][i]\n",
    "            L[j][i] = (M[j][i]-s)/U[i][i]\n",
    "            \n",
    "    return L,U\n",
    "\n",
    "\n",
    "def LU_solver(M,B):\n",
    "    \n",
    "    n = len(B)\n",
    "    \n",
    "    #get L & U matrix\n",
    "    L,U = LU_decomposition(M,B)\n",
    "    \n",
    "    #<--variables-->\n",
    "    y = np.zeros(n)\n",
    "    x = np.zeros(n)\n",
    "    \n",
    "    #forth subsitution\n",
    "    for i in range(n):\n",
    "        s = 0\n",
    "        for j in range(i):\n",
    "            s += L[i][j]*y[j]\n",
    "        y[i] = B[i]-s\n",
    "\n",
    "    #back substitution\n",
    "    for i in range(n-1,-1,-1):\n",
    "        s = 0\n",
    "        for j in range(n-1,i,-1):\n",
    "            s += U[i][j]*x[j]\n",
    "        x[i] = (y[i]-s)/U[i][i]\n",
    "    \n",
    "    return x"
   ]
  },
  {
   "cell_type": "code",
   "execution_count": 48,
   "metadata": {
    "scrolled": true
   },
   "outputs": [
    {
     "data": {
      "text/plain": [
       "array([11.5 ,  1.25, -3.75])"
      ]
     },
     "execution_count": 48,
     "metadata": {},
     "output_type": "execute_result"
    }
   ],
   "source": [
    "LU_solver(M,B)"
   ]
  },
  {
   "cell_type": "markdown",
   "metadata": {},
   "source": [
    "## Jecobi Iteration Method"
   ]
  },
  {
   "cell_type": "markdown",
   "metadata": {},
   "source": [
    "For [Diagonally Dominant Matrix](https://www.google.com/url?sa=t&rct=j&q=&esrc=s&source=web&cd=&cad=rja&uact=8&ved=2ahUKEwjTwIa2gurwAhXszTgGHV4NDsEQFjAEegQIEBAD&url=https%3A%2F%2Fstatisticaloddsandends.wordpress.com%2F2020%2F01%2F07%2Fwhat-is-a-diagonally-dominant-matrix%2F%23%3A~%3Atext%3DIn%2520words%252C%2520a%2520diagonally%2520dominant%2Cthe%2520terms%2520in%2520that%2520row.%26text%3DA%2520strictly%2520diagonally%2520dominant%2520matrix%2Csingular%252C%2520i.e.%2520has%2520an%2520inverse.&usg=AOvVaw1R5RW5qbP4_CkCF2Hxiir4), we use iteration methods.In words, a diagonally dominant matrix is a square matrix such that in each row, the absolute value of the term on the diagonal is greater than or equal to the sum of absolute values of the rest of the terms in that row. A strictly diagonally dominant matrix is non-singular, i.e. has an inverse.\n",
    "\n",
    "for example:\n",
    "\n",
    "\n",
    "$$ \\begin{bmatrix}\n",
    "        3 &-2  &1  \\\\\n",
    "         1&-3  & 2 \\\\\n",
    "         -1& 2 &  4\n",
    "    \\end{bmatrix} $$"
   ]
  },
  {
   "cell_type": "code",
   "execution_count": 62,
   "metadata": {},
   "outputs": [],
   "source": [
    "M = [[2,-1,0],[-1,2,-1],[0,-1,2]]\n",
    "B = [7,1,1]"
   ]
  },
  {
   "cell_type": "markdown",
   "metadata": {},
   "source": [
    "Consider a set of linear equations represented in matrix form\n",
    "\n",
    "\n",
    "\\begin{equation}\n",
    "    \\begin{bmatrix}\n",
    "        a_{00} & a_{01} & a_{02} \\\\\n",
    "        a_{10} & a_{11} & a_{12} \\\\\n",
    "        a_{20} & a_{21} & a_{22} \n",
    "    \\end{bmatrix}\n",
    "    \\begin{bmatrix}\n",
    "        x_0 \\\\\n",
    "        x_1 \\\\\n",
    "        x2\n",
    "    \\end{bmatrix} = \n",
    "    \\begin{bmatrix}\n",
    "        b_0 \\\\\n",
    "        b_1 \\\\\n",
    "        b_2\n",
    "    \\end{bmatrix}\n",
    "\\end{equation}\n",
    "\n",
    "\n",
    "This can aslo be written as\n",
    "$$a_{00} x_0 + a_{01} x_1 +  a_{02} x_2  = b_0 $$\n",
    "$$a_{01} x_0 + a_{01} x_1 +  a_{01} x_2  = b_1 $$\n",
    "$$a_{02} x_0 + a_{02} x_1 +  a_{02} x_2  = b_2 $$\n",
    "\n",
    "\n",
    "More Explicitly:\n",
    "\n",
    "\n",
    "$$x_0 = \\frac{1}{a_{00}}(b_0 - a_{01} x_1 - a_{02}x_2)$$ \n",
    "\n",
    "\n",
    "$$x_1 = \\frac{1}{a_{11}}(b_1 - a_{03} x_3 - a_{02}x_2)$$\n",
    "\n",
    "\n",
    "$$x_2 = \\frac{1}{a_{22}}(b_2 - a_{01} x_1 - a_{03}x_3)$$\n",
    "\n",
    "In a nice form\n",
    "\n",
    "$$ x_0 = \\frac{1}{a_{00}}(b_0 - \\sum_{j=0 , j != 0}^{3} a_{0j}x_{j})$$\n",
    "$$ x_1 = \\frac{1}{a_{11}}(b_1 - \\sum_{j=0 , j != 1}^{3} a_{1j}x_{j})$$\n",
    "$$ x_2 = \\frac{1}{a_{22}}(b_2 - \\sum_{j=0 , j != 2}^{3} a_{2j}x_{j})$$\n",
    "\n",
    "\n",
    "For any n-dimenssional matrix\n",
    "\n",
    "\n",
    "$$ x_i = \\frac{1}{a_{ii}}(b_i - \\sum_{j=i , j != i}^{n} a_{ij}x_{j})$$\n",
    "\n",
    "\n",
    "The method for _Jecobi Iteration_ goes like this:\n",
    "\n",
    "    \n",
    "We start with an intitial guess $x^0 = [x^0_0, x^0_1, x^0_2] $ put in above equation one by one i.e we put $ x^0_1, x^0_2$ in an equation for $x_0$ and find a new value we call this $x^1_0$ (first Iteration) and put $ x^0_0, x^0_2$ in an equation for $x_1$ and find a new value and so on. Now we have a new set of xs... this is called an Iteration. We repeat the process taking the new values and find a sequence which converges to the solutions."
   ]
  },
  {
   "cell_type": "code",
   "execution_count": 63,
   "metadata": {},
   "outputs": [],
   "source": [
    "#first input M and B\n",
    "def jecobi(M,B):\n",
    "    \n",
    "    n = len(B) #number of unknowns\n",
    "\n",
    "    max_iter = 50\n",
    "    count = 0\n",
    "\n",
    "    x = np.zeros(n) #initial guess\n",
    "\n",
    "    for _ in range(max_iter):\n",
    "#         print(x)\n",
    "        temp = x\n",
    "        #calculate next \n",
    "        for i in range(n): \n",
    "            s = 0\n",
    "            for j in range(n):\n",
    "                if j != i:  \n",
    "                    s += M[i][j]*temp[j]\n",
    "            x[i] =(B[i]+s)/M[i][i]\n",
    "\n",
    "    return x"
   ]
  },
  {
   "cell_type": "code",
   "execution_count": 64,
   "metadata": {},
   "outputs": [
    {
     "data": {
      "text/plain": [
       "array([ 5., -3.,  2.])"
      ]
     },
     "execution_count": 64,
     "metadata": {},
     "output_type": "execute_result"
    }
   ],
   "source": [
    "jecobi(M,B)"
   ]
  },
  {
   "cell_type": "markdown",
   "metadata": {},
   "source": [
    "## Gauss Siedel Iteration Method"
   ]
  },
  {
   "cell_type": "markdown",
   "metadata": {},
   "source": [
    "Gauss Siedel Iteration Method is exactly like Jecobi. We start with an intitial guess $x^0 = [x^0_0, x^0_1, x^0_2] $ put in above equation one by one i.e we put $ x^0_1, x^0_2$ in an equation for $x_0$ and find a new value we call this $x^1_0$ (first Iteration) and unlike Jecobi Iteration we pu the new value $ x^1_0, x^0_2$ in an equation for $x_1$ ."
   ]
  },
  {
   "cell_type": "code",
   "execution_count": 65,
   "metadata": {},
   "outputs": [],
   "source": [
    "def gauss_sidel(M,B):\n",
    "    \n",
    "    n = len(B) #number of unknowns\n",
    "\n",
    "    max_iter = 50\n",
    "    count = 0\n",
    "\n",
    "    x = np.zeros(n) #initial guess\n",
    "\n",
    "    for _ in range(max_iter):\n",
    "#         print(x)\n",
    "        #calculate next \n",
    "        for i in range(n): \n",
    "            s = 0\n",
    "            for j in range(n):\n",
    "                if j != i:  \n",
    "                    s += M[i][j]*x[j]\n",
    "            x[i] =(B[i]+s)/M[i][i]\n",
    "\n",
    "    return x"
   ]
  },
  {
   "cell_type": "code",
   "execution_count": 66,
   "metadata": {},
   "outputs": [
    {
     "data": {
      "text/plain": [
       "array([ 5., -3.,  2.])"
      ]
     },
     "execution_count": 66,
     "metadata": {},
     "output_type": "execute_result"
    }
   ],
   "source": [
    "gauss_sidel(M,B)"
   ]
  },
  {
   "cell_type": "markdown",
   "metadata": {},
   "source": [
    "## Case Study:  finding an Inverse Matrix for a squre matrix"
   ]
  },
  {
   "cell_type": "markdown",
   "metadata": {},
   "source": [
    "Let A be a squre matrix than B is called its inverse matrix if \n",
    "    $$AB = I$$ \n",
    "where I is identity matrix.\n",
    "\n",
    "we know that an identity Matrix is like this:\n",
    "\n",
    "$$ \\begin{bmatrix}\n",
    "    1 &0  &0 & \\cdots &0&0  \\\\\n",
    "    0 &1  &0 & \\cdots &0&0  \\\\\n",
    "    0 &0  &1 & \\cdots &0&0  \\\\\n",
    "    \\vdots &\\vdots  &\\vdots & &\\vdots&\\vdots  \\\\\n",
    "    0 &0  &0 & \\cdots &1&0  \\\\\n",
    "    0 &0  &0 & \\cdots &0&1  \n",
    "\\end{bmatrix} $$\n",
    "\n",
    "So we an write the problem as set of marix equations\n",
    "$$AB_i = I_i$$\n",
    "\n",
    "Where $B_i$ is $i_{th}$ column matrix of B and $I_i$ is a column matrix such that all of elements are zero except $i^{th}$.\n",
    "\n",
    "SO our problem is just to find all $B_i$s and glue them together."
   ]
  },
  {
   "cell_type": "code",
   "execution_count": 87,
   "metadata": {},
   "outputs": [],
   "source": [
    "B = np.zeros((n,n))\n",
    "for i in range(n):\n",
    "    I_i = np.identity(n)[i]\n",
    "    B[i] = LU_solver(M, I_i)"
   ]
  },
  {
   "cell_type": "code",
   "execution_count": 88,
   "metadata": {},
   "outputs": [
    {
     "data": {
      "text/plain": [
       "array([[0.75, 0.5 , 0.25],\n",
       "       [0.5 , 1.  , 0.5 ],\n",
       "       [0.25, 0.5 , 0.75]])"
      ]
     },
     "execution_count": 88,
     "metadata": {},
     "output_type": "execute_result"
    }
   ],
   "source": [
    "B"
   ]
  },
  {
   "cell_type": "code",
   "execution_count": 91,
   "metadata": {},
   "outputs": [
    {
     "data": {
      "text/plain": [
       "array([[ 1.00000000e+00,  0.00000000e+00,  0.00000000e+00],\n",
       "       [ 2.77555756e-17,  1.00000000e+00,  0.00000000e+00],\n",
       "       [-5.55111512e-17, -1.11022302e-16,  1.00000000e+00]])"
      ]
     },
     "execution_count": 91,
     "metadata": {},
     "output_type": "execute_result"
    }
   ],
   "source": [
    "np.matmul(M,B)"
   ]
  },
  {
   "cell_type": "code",
   "execution_count": null,
   "metadata": {},
   "outputs": [],
   "source": [
    "def "
   ]
  }
 ],
 "metadata": {
  "kernelspec": {
   "display_name": "Python 3",
   "language": "python",
   "name": "python3"
  },
  "language_info": {
   "codemirror_mode": {
    "name": "ipython",
    "version": 3
   },
   "file_extension": ".py",
   "mimetype": "text/x-python",
   "name": "python",
   "nbconvert_exporter": "python",
   "pygments_lexer": "ipython3",
   "version": "3.9.2"
  }
 },
 "nbformat": 4,
 "nbformat_minor": 4
}
