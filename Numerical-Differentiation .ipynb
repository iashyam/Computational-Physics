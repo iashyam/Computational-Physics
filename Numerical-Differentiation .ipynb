{
 "cells": [
  {
   "cell_type": "markdown",
   "id": "perceived-chamber",
   "metadata": {},
   "source": [
    "# Numerical Differentiation\n",
    "\n",
    "Differentiataion is the moet useful and most basic operation in the mathematics. It is used widely in Physics. At every topic of physics from basic Newtonian Machanics to the String Theory, Differentiation occures at every point of Physics. So it is very important to study differentiation in computational Physics. \n",
    "\n",
    "\n",
    "We will do three Algorithms of Diffrentiation here:\n",
    "\n",
    "1. Forward Difference Method\n",
    "2. Central Difference Method\n",
    "3. Extrapolated Differentiation"
   ]
  },
  {
   "cell_type": "markdown",
   "id": "located-affair",
   "metadata": {},
   "source": [
    "## Forward difference Method\n",
    "\n",
    "This is the most common and most straightforward method to compute differential numerically. This comes through linear approximation of the _taylor series_.\n",
    "\n",
    "\n",
    "We know that taylor series for a  function $f(x)$ goes like this:\n",
    "\n",
    "$$f(x+h) = f(x) + f'(x)h + f''(x)h^2/2! + \\cdots $$\n",
    "\n",
    "Where $f'(x)$ is the  differentiation of $f(x)$ at point $x$. If we make $h$ so small that we can ignore $h^2$ and higher terms. We can write the equation as:\n",
    "\n",
    "\n",
    "\n",
    "$$f(x+h) \\approx f(x) + hf'(x)$$\n",
    "\n",
    "That means the differentiation is\n",
    "\n",
    "$$\\frac{df}{dx} \\approx \\frac{f(x+h)- f(x)}{h}$$\n",
    "\n",
    "<img src=\"Images/forwarddoffrential.png\" caption=\"Forward Difference ALgorithm\">\n",
    "\n",
    "This is called the forward difference method of differentiation. Well as we can see that this formula only applies when $h$ is very small. Infect it is the defintaion of differentiation when $\\lim(h\\to 0)$. \n",
    "\n",
    "\n",
    "An estimate of error for this is:\n",
    "\n",
    "$$\\Delta = \\frac{h^2}{2!}\\frac{d^2f(x)}{dt^2} + \\cdots$$\n",
    "\n",
    "\n",
    "So in Big O notation this algorithm has an error of order $h^2$\n",
    "\n",
    "\n"
   ]
  },
  {
   "cell_type": "code",
   "execution_count": null,
   "id": "known-starter",
   "metadata": {},
   "outputs": [],
   "source": [
    "def forward_difference(f,h = 1e-4): #h is an optional paramiter\n",
    "    \n",
    "    \"\"\"A function to calcute the diffrentiation using forward difference method.\n",
    "        Well the diffrential of a fucnton is also a function so this should return a fucntion.\"\"\"\n",
    "    \n",
    "    #setting an \n",
    "    \n",
    "    def g(x):\n",
    "        \n",
    "        return (f(x+h)-f(x))/h\n",
    "    \n",
    "    return g"
   ]
  },
  {
   "cell_type": "code",
   "execution_count": null,
   "id": "further-secondary",
   "metadata": {},
   "outputs": [],
   "source": [
    "# test fucntion\n",
    "def f(x):\n",
    "    return 2*x**2+3*x+6\n",
    "\n",
    "g = forward_difference(f)\n",
    "\n",
    "print(g(2))"
   ]
  },
  {
   "cell_type": "markdown",
   "id": "ready-assets",
   "metadata": {},
   "source": [
    "The test function is\n",
    "\n",
    "$$f(x) = 2x^2+3x+6$$\n",
    "\n",
    "$$f'(x) = 4x+3$$\n",
    "\n",
    "$$f'(2) = 4\\times2+3$$\n",
    "\n",
    "$$f'(2) = 11$$\n",
    "\n",
    "That is pritty okay with our algorithm."
   ]
  },
  {
   "cell_type": "markdown",
   "id": "spanish-toddler",
   "metadata": {},
   "source": [
    "## Centeral Difference Method"
   ]
  },
  {
   "cell_type": "markdown",
   "id": "falling-carbon",
   "metadata": {},
   "source": [
    "We know from the taylor's series that:\n",
    "\n",
    "$$y(x+h/2) = y(x) + \\frac{h}{2}y'(x) + \\frac{h^2}{8}y''(x) + \\cdots$$\n",
    "$$y(x-h/2) = y(x) - \\frac{h}{2}y'(x) + \\frac{h^2}{8}y''(x) - \\cdots$$\n",
    "\n",
    "Substracting thses two equation:\n",
    "$$y(x+h/2)-y(h-h/2) = hy'(x) + \\mathcal{O}(h^3)$$\n",
    "\n",
    "From here we get:\n",
    "\n",
    "$$f'(x) = \\frac{f(x+h/2)-f(x-h/2)}{h}$$\n",
    "\n",
    "\n",
    "<img src=\"Images/centeral-diff.png\">\n",
    "\n",
    "\n",
    "So this algorithm has an error of order $\\mathcal{O}(h^3)$"
   ]
  },
  {
   "cell_type": "code",
   "execution_count": null,
   "id": "removed-differential",
   "metadata": {},
   "outputs": [],
   "source": [
    "def central_difference(f,h = 1e-5):\n",
    "    \n",
    "    def g(x):\n",
    "        \n",
    "        return (f(x+h/2)-f(x-h/2))/h\n",
    "    \n",
    "    return g"
   ]
  },
  {
   "cell_type": "code",
   "execution_count": null,
   "id": "elder-fruit",
   "metadata": {},
   "outputs": [],
   "source": [
    "def f(x):\n",
    "    return 2*x**2+3*x+6\n",
    "\n",
    "g = central_difference(f)\n",
    "\n",
    "print(g(2))"
   ]
  },
  {
   "cell_type": "markdown",
   "id": "neither-remedy",
   "metadata": {},
   "source": [
    "## Extrapolated Diffrentiation\n",
    "\n",
    "Becuase we are using taylor series to find a finite sum for the diffrentiation. We also have the error assesment here in terms of powers of $h$. \n",
    "\n",
    "In first step i.e the forward difference method we chose the full step of $h$ and got an error of order $h^2$ then we chose the step $h/2$ and got the error of order $h^3$ so what we can see here that error reduces as we take small step size. Now let us try with step size of $h/4$."
   ]
  },
  {
   "cell_type": "markdown",
   "id": "bright-cooling",
   "metadata": {},
   "source": [
    "We know that taylor series for a  function $f(x)$ goes like this:\n",
    "\n",
    "$$y(x+h) = y(x) + y'(x)h + y''(x)h^2/2! + \\cdots $$\n",
    "\n",
    "For step size $h/2$ we have.. \n",
    "\n",
    "$$y(x+h/2) = y(x) + \\frac{h}{2}y'(x) + \\frac{h^2}{8}y''(x) + \\frac{h^3}{48}y'''(x) \\cdots$$\n",
    "$$y(x-h/2) = y(x) - \\frac{h}{2}y'(x) + \\frac{h^2}{8}y''(x) - \\frac{h^3}{48}y'''(x) \\cdots$$\n",
    "\n",
    "By taking difference of these two we get:\n",
    "\n",
    "$$y(x+h/2)-y(h-h/2) = hy'(x) + \\frac{h^3}{24}y'''(x)n+ \\mathcal{O}(h^5)$$\n",
    "\n",
    "$$ y'''(x) =  \\frac{24}{h^3}\\left( y(x+h/2)-y(h-h/2) - hy'(x) \\right) $$\n",
    "\n",
    "\n",
    "Aplying the same central difference algorithms for step size of $h/4$ we get:\n",
    "\n",
    "$$y(x+\\frac{h}{4})-y(h-\\frac{h}{4}) = \\frac{h}{2}y'(x) + \\frac{h^3}{192}y'''(x)+ \\mathcal{O}(h^5)$$\n",
    "\n",
    "\n",
    "\n",
    "\n",
    "We put the value of $y'''(x)$ from above equation and with some calculation what we get is:\n",
    "\n",
    "\n",
    "<br>\n",
    "<br>\n",
    "\n",
    "\n",
    "\n",
    "\n",
    "$$ y'(x) = \\frac{ 8(y(x+h/4) - y(x-h/4)) - (y(x+h/2)-y(x-h/2)) }{3h} $$\n",
    "\n",
    "<br>\n",
    "<br> \n",
    "\n",
    "And this assesment has the error of order $h^5$. And from here what we can conclude that by taking more small step size like $h/8$ or $h/16$ we can get tremandious amount of accuracy.\n"
   ]
  },
  {
   "cell_type": "code",
   "execution_count": null,
   "id": "floppy-transparency",
   "metadata": {},
   "outputs": [],
   "source": [
    "def extraPolated(f,h = 1e-4):\n",
    "    \n",
    "    def g(x):\n",
    "        \n",
    "        k = (8*(f(x+h/4)-f(x-h/4))-(f(x+h/2)-f(x-h/2)))/(3*h)\n",
    "        \n",
    "        return k\n",
    "    return g\n"
   ]
  },
  {
   "cell_type": "code",
   "execution_count": null,
   "id": "narrow-gamma",
   "metadata": {},
   "outputs": [],
   "source": [
    "def f(x):\n",
    "    return 2*x**2+3*x+6\n",
    "\n",
    "g = extraPolated(f)\n",
    "\n",
    "print(g(2))"
   ]
  },
  {
   "cell_type": "markdown",
   "id": "secret-basis",
   "metadata": {},
   "source": [
    "# Second order derrivatives\n",
    "\n",
    "Second order derrivative is just reapeated derrivatives two times. It is like appying the derrivative function again on the result. But there is a center diffrence method for second order derrivatives.\n",
    "\n",
    "We know that taylor series for a  function $f(x)$ goes like this:\n",
    "\n",
    "$$f(x+h) = f(x) + f'(x)h + f''(x)h^2/2! + \\cdots $$\n",
    "$$ f(x-h) = f(x) - f'(x)h + f''(x)h^2/2! - \\cdots  $$\n",
    "\n",
    "By adding those two equations:\n",
    "\n",
    "$$ f(x+h)+f(x-h) = 2f(x) + f''(x)h^2 + \\mathcal{O}(h^4) $$\n",
    "\n",
    "$$ \\implies f''(x) = \\frac{f(x+h)+f(x-h)-2f(x)}{h^2} $$\n",
    "\n",
    "This is called the finite differnce approximation for second order derrivatives and it is pritty useful in solving second order differential equation using finite difference method.\n",
    "\n"
   ]
  },
  {
   "cell_type": "code",
   "execution_count": null,
   "id": "martial-rendering",
   "metadata": {},
   "outputs": [],
   "source": [
    "def second_derrivative(f,h = 1e-4):\n",
    "    \n",
    "    def g(x):\n",
    "        f2 = (f(x+h)+f(x-h)-2*f(x))/h**2\n",
    "        \n",
    "        return f2\n",
    "    return g"
   ]
  },
  {
   "cell_type": "code",
   "execution_count": null,
   "id": "solved-support",
   "metadata": {},
   "outputs": [],
   "source": [
    "#lets test this :\n",
    "\n",
    "#second derrivative form central difference method\n",
    "f2 = second_derrivative(f)\n",
    "\n",
    "#second derrivative form seccessive diffrentiation\n",
    "f1 = extraPolated(f)\n",
    "f3 = extraPolated(f1)\n",
    "\n",
    "print(f2(0))\n",
    "print(f3(0))"
   ]
  },
  {
   "cell_type": "markdown",
   "id": "introductory-found",
   "metadata": {},
   "source": [
    "They are pritty close they should be equal to four. "
   ]
  },
  {
   "cell_type": "markdown",
   "id": "clear-continent",
   "metadata": {},
   "source": [
    "## Problems:\n",
    "\n",
    "1. Use Centeral Difference, Forward Difference and Extrapolated Differantiation method to calculate the derrivative of $cos(t)$ and $e^{t}$ at $t = 0.1,1.,100.$.\n",
    "\n",
    "    1. Print out the derivative and its relative error $\\epsilon_m$ as functions of $h$. Reduce\n",
    "    the step size h until it equals machine precision $h  \\approx \\epsilon_m$.\n",
    "    \n",
    "\n"
   ]
  },
  {
   "cell_type": "code",
   "execution_count": null,
   "id": "formal-blake",
   "metadata": {},
   "outputs": [],
   "source": [
    "import math\n",
    "\n",
    "f1 = forward_difference(math.cos)\n",
    "print(f1(math.pi/2))\n",
    "\n",
    "f2 = central_difference(math.cos)\n",
    "print(f2(math.pi/2))\n",
    "\n",
    "f3 = extraPolated(math.cos)\n",
    "print(f3(math.pi/2))"
   ]
  }
 ],
 "metadata": {
  "kernelspec": {
   "display_name": "Python 3",
   "language": "python",
   "name": "python3"
  },
  "language_info": {
   "codemirror_mode": {
    "name": "ipython",
    "version": 3
   },
   "file_extension": ".py",
   "mimetype": "text/x-python",
   "name": "python",
   "nbconvert_exporter": "python",
   "pygments_lexer": "ipython3",
   "version": "3.9.2"
  }
 },
 "nbformat": 4,
 "nbformat_minor": 5
}
