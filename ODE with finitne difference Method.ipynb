{
 "cells": [
  {
   "cell_type": "markdown",
   "metadata": {},
   "source": [
    "## Assignment 6\n",
    "### PH22C047\n",
    "### Shyam Sunder\n",
    "## Boundary Value Problem\n",
    "\n",
    "In this notebook we will be solving boundary value problem. Our problem will be \n",
    "to find the electric potential $\\phi$ inside a sphere of radius $R$ with a constant charge density $\\rho_o$. This sphere will obey the __Poission Equation_\n",
    "\n",
    "![sphere](https://encrypted-tbn0.gstatic.com/images?q=tbn:ANd9GcQ3J9YPnR-e9QfGJXOMIRHJmHs5O1ZpjZOvag&usqp=CAU)\n",
    "\n",
    "$$\\nabla^2\\phi=-\\frac{\\rho_o}{\\epsilon_0}$$\n",
    "\n",
    "In our case, the charge density $\\rho$ is independent of angles, so the potential has a spherical symmetry. Thus our $\\phi$ will only depend of $r$ and hence we can write the above equation as: \n",
    "$$\\frac{1}{r^2} \\frac{d}{dr}\\left( r^2 \\frac{d}{dr} \\phi(r)\\right) = - \\frac{\\rho_0}{\\epsilon_0}$$\n",
    "\n",
    "Which can be further simplified into \n",
    "\n",
    "$$\\frac{d^2 \\phi}{dr^2} +  \\frac{2}{r} \\frac{d\\phi}{dr} = - \\frac{\\rho_0}{\\epsilon_0}$$\n",
    "\n",
    "Now for boundary conditions: at the surface of the Sphere, the potential will look like that it's all potential is concentrated at its center. so we can calculate total charge that would be $q = 4\\pi r^3/3$ so the potential at the surface would be \n",
    "$$\\phi(R) = \\frac{\\rho R^2}{3 \\epsilon_0}$$\n",
    "\n",
    "Next boundary condition would be very easy. Because of the spherical symmetry the electric field would be zero at the center of the sphere: \n",
    "$$\\frac{d\\phi}{d r}\\rvert_{r=0} = 0$$ \n",
    "\n",
    "\n",
    "Now we need to non-dimenssionalise our equation. The lenght scale in your problem is the radius of the sphere $R$. So we define dimessionless length $\\mathcal{r} \\to \\frac{r}{R}$ .Our potential scale would be as $\\phi_0 = \\frac{\\rho_0 R^2}{\\epsilon_0}$ so dimessionless potential would be: $\\phi \\to \\frac{\\phi}{\\phi_0}$. From this our dimessionless equation would be:\n",
    "\n",
    "$$\\frac{d^2 \\phi}{dr^2} +  \\frac{2}{r} \\frac{d\\phi}{dr} = -1$$\n",
    "\n",
    "With the boundary conditions $E(0) = 0$ and $\\phi(1) = 1/3$. And our reigon of interest would be inside the sphere that is $[0,1]$.\n",
    "\n",
    "To solve this equation, we will use finite difference method. We will devide the interval [0,1] into $N$ small spaces. Eeach space will have the length $h$. If we write the potenial $\\phi(r_i) = \\phi_i$ We can write the derrivatives as following:\n",
    "\n",
    "$$\\frac{d\\phi}{dr} = \\frac{\\phi_{i+1}-\\phi_{i-1}}{2h} , \\frac{d^2 \\phi}{dr^2} = \\frac{\\phi_{i+1}+\\phi_{i-1}-2\\phi_i}{h^2}$$\n",
    "\n",
    "So our diffrential equation becomes:\n",
    "\n",
    "$$\\frac{\\phi_{i+1}+\\phi_{i-1}-2\\phi_i}{h^2} + \\frac{1}{r}\\frac{\\phi_{i+1}-\\phi_{i-1}}{2h} =-1$$\n",
    "\n",
    "or\n",
    "\n",
    "$$\\phi_{i+1} \\left( \\frac{1}{h^2}+\\frac{1}{h r_i} \\right)  + \\phi_{i-1} \\left( \\frac{1}{h^2}-\\frac{1}{h r_i} \\right ) + \\phi_{i} \\left( \\frac{-2}{h^2}\\right) = -1 $$\n",
    "\n",
    "with boundary conditions $\\frac{\\phi_1 - \\phi_0}{h} = 0$ and $\\phi_N = 1/3$.\n",
    "\n",
    "Now unfortunately we don't have the mathematica function `NDsolve` in python. So I solved this diffrential equation on paper to compare the solution. The real solution of the problem is:\n",
    "\n",
    "$$\\phi(r) = -\\frac{r^2}{6} + \\frac{1}{2}, \\{0 \\le r \\le 1 \\}$$"
   ]
  },
  {
   "cell_type": "code",
   "execution_count": null,
   "metadata": {},
   "outputs": [],
   "source": []
  },
  {
   "cell_type": "code",
   "execution_count": 1,
   "metadata": {},
   "outputs": [
    {
     "name": "stderr",
     "output_type": "stream",
     "text": [
      "/tmp/ipykernel_6779/1334896370.py:3: MatplotlibDeprecationWarning: The seaborn styles shipped by Matplotlib are deprecated since 3.6, as they no longer correspond to the styles shipped by seaborn. However, they will remain available as 'seaborn-v0_8-<style>'. Alternatively, directly use the seaborn API instead.\n",
      "  plt.style.use('seaborn-whitegrid')\n"
     ]
    }
   ],
   "source": [
    "import numpy as np\n",
    "import matplotlib.pyplot as plt\n",
    "plt.style.use('seaborn-whitegrid')"
   ]
  },
  {
   "cell_type": "code",
   "execution_count": 2,
   "metadata": {},
   "outputs": [
    {
     "data": {
      "text/plain": [
       "0"
      ]
     },
     "execution_count": 2,
     "metadata": {},
     "output_type": "execute_result"
    }
   ],
   "source": [
    "delta = lambda i,j: 1 if i==j else 0 #defining dirac delta function \n",
    "delta(1,0)"
   ]
  },
  {
   "cell_type": "code",
   "execution_count": 3,
   "metadata": {},
   "outputs": [],
   "source": [
    "a = 0\n",
    "b = 1\n",
    "N = 100 #number of points in the grid\n",
    "h = (b-a)/N #grid spacing\n",
    "\n",
    "rs = np.linspace(0,1,N)\n",
    "mat = np.zeros((N,N)) #sparse matrix"
   ]
  },
  {
   "cell_type": "code",
   "execution_count": 4,
   "metadata": {},
   "outputs": [],
   "source": [
    "for i in range(1,N):\n",
    "    for j in range(N):\n",
    "        mat[i,j] = (1/h**2 + 1/(h*rs[i]))*delta(i+1,j) + (1/h**2 - 1/(h*rs[i]))*delta(i-1,j) - (2/h**2)*delta(i,j)"
   ]
  },
  {
   "cell_type": "code",
   "execution_count": 5,
   "metadata": {},
   "outputs": [],
   "source": [
    "#putting the boundary conditions\n",
    "mat[0,0] = -1/h\n",
    "mat[0,1] = 1/h\n",
    "mat[-1,-1] = 1\n",
    "mat[-1,-2] = 0"
   ]
  },
  {
   "cell_type": "code",
   "execution_count": 6,
   "metadata": {},
   "outputs": [],
   "source": [
    "#the cofficient matrix\n",
    "coff = -1*np.ones(N)\n",
    "\n",
    "#putting boundary conditions in coff mat\n",
    "coff[0] = 0\n",
    "coff[-1] = 1/3"
   ]
  },
  {
   "cell_type": "code",
   "execution_count": 7,
   "metadata": {},
   "outputs": [],
   "source": [
    "#the moment of solution\n",
    "phis = np.linalg.inv(mat)@coff"
   ]
  },
  {
   "cell_type": "code",
   "execution_count": 8,
   "metadata": {},
   "outputs": [],
   "source": [
    "def phi_th(r):\n",
    "    return -r**2/6 + 1/2"
   ]
  },
  {
   "cell_type": "code",
   "execution_count": 9,
   "metadata": {},
   "outputs": [
    {
     "data": {
      "text/plain": [
       "Text(0, 0.5, '$\\\\phi(r)$')"
      ]
     },
     "execution_count": 9,
     "metadata": {},
     "output_type": "execute_result"
    },
    {
     "data": {
      "image/png": "[encoded data removed]",
      "text/plain": [
       "<Figure size 640x480 with 1 Axes>"
      ]
     },
     "metadata": {},
     "output_type": "display_data"
    }
   ],
   "source": [
    "plt.plot(rs, phi_th(rs), label='exact solution')\n",
    "plt.plot(rs, phis, label='nerumerical solution')\n",
    "plt.legend();\n",
    "plt.xlabel('r')\n",
    "plt.ylabel(r'$\\phi(r)$')"
   ]
  },
  {
   "cell_type": "code",
   "execution_count": 10,
   "metadata": {},
   "outputs": [
    {
     "name": "stdout",
     "output_type": "stream",
     "text": [
      "1.7901483899798414\n"
     ]
    }
   ],
   "source": [
    "phi_real = phi_th(rs) #real values\n",
    "error_local = phi_real - phis\n",
    "error_local = phi_real - phis\n",
    "error_global = np.dot(error_local, error_local)\n",
    "order = np.log(error_global)/np.log(h)\n",
    "print(order)"
   ]
  },
  {
   "cell_type": "markdown",
   "metadata": {},
   "source": [
    "The error is of the order of $h^2$"
   ]
  },
  {
   "cell_type": "markdown",
   "metadata": {},
   "source": []
  }
 ],
 "metadata": {
  "kernelspec": {
   "display_name": "Python 3 (ipykernel)",
   "language": "python",
   "name": "python3"
  },
  "language_info": {
   "codemirror_mode": {
    "name": "ipython",
    "version": 3
   },
   "file_extension": ".py",
   "mimetype": "text/x-python",
   "name": "python",
   "nbconvert_exporter": "python",
   "pygments_lexer": "ipython3",
   "version": "3.10.9"
  }
 },
 "nbformat": 4,
 "nbformat_minor": 4
}
