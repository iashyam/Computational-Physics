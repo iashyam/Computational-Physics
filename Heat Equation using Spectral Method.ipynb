{
 "cells": [
  {
   "cell_type": "code",
   "execution_count": 177,
   "id": "4e54f804-378f-4c00-a8c9-7b2882da09f1",
   "metadata": {
    "tags": []
   },
   "outputs": [],
   "source": [
    "import matplotlib.pyplot as plt\n",
    "import numpy as np\n",
    "from numpy import pi\n",
    "from scipy import fft\n",
    "\n",
    "%matplotlib inline\n",
    "plt.style.use('seaborn-v0_8-whitegrid')"
   ]
  },
  {
   "attachments": {},
   "cell_type": "markdown",
   "id": "6b2e2638-159f-4a53-9659-786abadd61f5",
   "metadata": {},
   "source": [
    "# Solving heat equation using spectral methods\n",
    "\n",
    "Our heat equation is this:\n",
    "\n",
    "\\begin{equation}\n",
    "\\frac{\\partial u}{\\partial t} = \\kappa \\nabla^2 u\n",
    "\\end{equation}\n",
    "\n",
    "We will slove this equation in a square box of legth $L$ first. \n",
    "\n",
    "To start solving this equation, we will first have to non-dimenssionalise it. Because computers don't understand the language of units. We need to find the natural length scale which can be easily identified as the length of the rod $L$. Now we define dimenssionless position as $x \\to \\frac{x}{L}$. Then we need to find the scale for time. If we put the length scale into the equation, we will find that the time scale is $\\tau = \\frac{L^2}{\\kappa}$. Then we define $t \\to \\frac{t}{\\tau}$. We also need to find a temperature scale, which doesn't effect our equation because it is on both side and will cancel out. But still we need to do that. The natural temperature scale is found in the intial  intial distribution of the temperature. Then this $T_0$ can we taken as temperature scale and the dimenssionless temperature would be $T \\to T/T_0$. Not that our space domain reduces to just $[0,1]$ in dimenssionless variables. Now we easily write the diffrential equation in dimenssionless variables:\n",
    "\n",
    "Then our equation becomes \n",
    "\n",
    "\\begin{equation}\n",
    "\\frac{\\partial u}{\\partial t} = \\nabla^2 u\n",
    "\\end{equation}\n",
    "\n",
    "To solve this equation, we will take spatial fourier transform on both side of the equation and then the $\\nabla$ operator becomes just $-k^2$. So our equation has this form now\n",
    "\n",
    "\\begin{equation}\n",
    "\\frac{\\partial \\hat{u}}{\\partial t} = -k^2 \\hat{u}\n",
    "\\end{equation}\n",
    "\n",
    "Then we can use any kind of integrator to solve this temporal equation, for the simplicity, we will use the Euler's method now, then we can imporve it by using Runge Kutta and other fancy method later. The equation at a later time will look like this\"\n",
    "\n",
    "\\begin{equation}\n",
    "\\hat{u}(t+\\Delta t) = \\hat{u} + \\Delta t (-k^2 \\hat{u})\n",
    "\\end{equation}\n",
    "\n",
    "Then we can take inverse fourier tranform to get back to the $u$ at that instant of time. \n",
    "\n",
    "Now we need boundary conditions, we will take simple boundary conditions as usual to model. \n",
    "The intial temeperature destribution is given by:\n",
    "\n",
    "$$u(r, 0) =  e^{-r^2}$$\n",
    "\n",
    "At the edges, the temperature is 0.\n",
    "\n",
    "$$u(0, y, t) = u(1, y, t) = u(x, 0, t) = u(x, 1, t) = 0$$\n",
    "\n",
    "Now we start solving the equation"
   ]
  },
  {
   "cell_type": "code",
   "execution_count": 178,
   "id": "91581adb-24e2-410b-b4fe-0f2bc3f5dbb6",
   "metadata": {
    "tags": []
   },
   "outputs": [],
   "source": [
    "t0 = 0 #intial time\n",
    "tf = 100 #final time\n",
    "dt = 1e-2 #time step\n",
    "\n",
    "Nt = int((tf-t0)/dt) #total number of time steps\n",
    "\n",
    "Nx = 32 #total number of spatial grid steps\n",
    "h = 1/Nx #the grid spacing\n",
    "\n",
    "xs = np.linspace(0,1, Nx)\n",
    "\n",
    "#making the intial temperature matrix\n",
    "U = np.zeros((Nx, Nx, Nt), dtype='float64')\n",
    "\n",
    "\n",
    "def To(x, y):\n",
    "    # return 2*np.sin(x*np.pi*3)**2 + 3*np.cos(y*np.pi*3)**2\n",
    "    # return np.random.uniform(0,1)\n",
    "    return 0\n",
    "\n",
    "for i in range(Nx):\n",
    "    for j in range(Nx):\n",
    "        x = i*h\n",
    "        y = j*h\n",
    "        U[i,j,0] =  To(x,y)\n",
    "        \n",
    "# #putting the edges at zero temp\n",
    "U[0, :, :] = 4\n",
    "U[-1, :, :] = 0\n",
    "U[:,0,:] = 0\n",
    "U[:,-1,:] = 0"
   ]
  },
  {
   "cell_type": "code",
   "execution_count": 179,
   "id": "2ec9238e-200a-43ad-b2bd-43688f22c514",
   "metadata": {
    "tags": []
   },
   "outputs": [
    {
     "data": {
      "image/png": "[encoded data removed]",
      "text/plain": [
       "<Figure size 640x480 with 1 Axes>"
      ]
     },
     "metadata": {},
     "output_type": "display_data"
    }
   ],
   "source": [
    "plt.pcolormesh(U[:,:,0], cmap=plt.cm.RdBu_r)\n",
    "plt.show()"
   ]
  },
  {
   "cell_type": "code",
   "execution_count": 180,
   "id": "616373cc-9123-48f2-9e54-abb54e0a4fee",
   "metadata": {},
   "outputs": [],
   "source": [
    "#applyting spectral method\n",
    "for i in range(1,Nt):\n",
    "    u = U[:, :, i-1]\n",
    "\n",
    "    u_hat = fft.fft2(u) #taking the fourier transform\n",
    "\n",
    "    k_x = fft.fftfreq(Nx)*(2*pi/1)\n",
    "    k_y = fft.fftfreq(Nx)*(2*pi/1)\n",
    "    \n",
    "    k_spec = k_x*k_x + k_y*k_y\n",
    "\n",
    "    u_hat += -k_spec*u_hat*dt\n",
    "\n",
    "    #taking the inverse fourier tranform\n",
    "    u_real = np.real(fft.ifft2(u_hat))\n",
    "\n",
    "\n",
    "    U[:,:,i] = u_real\n"
   ]
  },
  {
   "cell_type": "code",
   "execution_count": 181,
   "id": "9933dde4",
   "metadata": {},
   "outputs": [
    {
     "data": {
      "image/png": "[encoded data removed]",
      "text/plain": [
       "<Figure size 640x480 with 1 Axes>"
      ]
     },
     "metadata": {},
     "output_type": "display_data"
    }
   ],
   "source": [
    "plt.pcolormesh(U[:,:,600], cmap=plt.cm.RdBu_r)\n",
    "plt.show()"
   ]
  },
  {
   "cell_type": "code",
   "execution_count": 182,
   "id": "bf4c358b",
   "metadata": {},
   "outputs": [
    {
     "ename": "KeyboardInterrupt",
     "evalue": "",
     "output_type": "error",
     "traceback": [
      "\u001b[0;31m---------------------------------------------------------------------------\u001b[0m",
      "\u001b[0;31mKeyboardInterrupt\u001b[0m                         Traceback (most recent call last)",
      "Cell \u001b[0;32mIn[182], line 5\u001b[0m\n\u001b[1;32m      3\u001b[0m \u001b[39mif\u001b[39;00m i\u001b[39m%\u001b[39m\u001b[39m10\u001b[39m\u001b[39m==\u001b[39m\u001b[39m0\u001b[39m:\n\u001b[1;32m      4\u001b[0m     plt\u001b[39m.\u001b[39mclf()\n\u001b[0;32m----> 5\u001b[0m     plt\u001b[39m.\u001b[39;49mpcolormesh(U[:,:,i], cmap\u001b[39m=\u001b[39;49mplt\u001b[39m.\u001b[39;49mcm\u001b[39m.\u001b[39;49mRdBu_r, vmin\u001b[39m=\u001b[39;49m\u001b[39m0\u001b[39;49m, vmax\u001b[39m=\u001b[39;49m(\u001b[39m4\u001b[39;49m))\n\u001b[1;32m      6\u001b[0m     plt\u001b[39m.\u001b[39mtitle(\u001b[39mf\u001b[39m\u001b[39m'\u001b[39m\u001b[39mt = \u001b[39m\u001b[39m{\u001b[39;00m\u001b[39mround\u001b[39m(i\u001b[39m*\u001b[39mdt)\u001b[39m}\u001b[39;00m\u001b[39m'\u001b[39m)\n\u001b[1;32m      7\u001b[0m     plt\u001b[39m.\u001b[39mpause(\u001b[39m0.01\u001b[39m)\n",
      "File \u001b[0;32m~/anaconda3/lib/python3.10/site-packages/matplotlib/pyplot.py:2746\u001b[0m, in \u001b[0;36mpcolormesh\u001b[0;34m(alpha, norm, cmap, vmin, vmax, shading, antialiased, data, *args, **kwargs)\u001b[0m\n\u001b[1;32m   2741\u001b[0m \u001b[39m@_copy_docstring_and_deprecators\u001b[39m(Axes\u001b[39m.\u001b[39mpcolormesh)\n\u001b[1;32m   2742\u001b[0m \u001b[39mdef\u001b[39;00m \u001b[39mpcolormesh\u001b[39m(\n\u001b[1;32m   2743\u001b[0m         \u001b[39m*\u001b[39margs, alpha\u001b[39m=\u001b[39m\u001b[39mNone\u001b[39;00m, norm\u001b[39m=\u001b[39m\u001b[39mNone\u001b[39;00m, cmap\u001b[39m=\u001b[39m\u001b[39mNone\u001b[39;00m, vmin\u001b[39m=\u001b[39m\u001b[39mNone\u001b[39;00m,\n\u001b[1;32m   2744\u001b[0m         vmax\u001b[39m=\u001b[39m\u001b[39mNone\u001b[39;00m, shading\u001b[39m=\u001b[39m\u001b[39mNone\u001b[39;00m, antialiased\u001b[39m=\u001b[39m\u001b[39mFalse\u001b[39;00m, data\u001b[39m=\u001b[39m\u001b[39mNone\u001b[39;00m,\n\u001b[1;32m   2745\u001b[0m         \u001b[39m*\u001b[39m\u001b[39m*\u001b[39mkwargs):\n\u001b[0;32m-> 2746\u001b[0m     __ret \u001b[39m=\u001b[39m gca()\u001b[39m.\u001b[39mpcolormesh(\n\u001b[1;32m   2747\u001b[0m         \u001b[39m*\u001b[39margs, alpha\u001b[39m=\u001b[39malpha, norm\u001b[39m=\u001b[39mnorm, cmap\u001b[39m=\u001b[39mcmap, vmin\u001b[39m=\u001b[39mvmin,\n\u001b[1;32m   2748\u001b[0m         vmax\u001b[39m=\u001b[39mvmax, shading\u001b[39m=\u001b[39mshading, antialiased\u001b[39m=\u001b[39mantialiased,\n\u001b[1;32m   2749\u001b[0m         \u001b[39m*\u001b[39m\u001b[39m*\u001b[39m({\u001b[39m\"\u001b[39m\u001b[39mdata\u001b[39m\u001b[39m\"\u001b[39m: data} \u001b[39mif\u001b[39;00m data \u001b[39mis\u001b[39;00m \u001b[39mnot\u001b[39;00m \u001b[39mNone\u001b[39;00m \u001b[39melse\u001b[39;00m {}), \u001b[39m*\u001b[39m\u001b[39m*\u001b[39mkwargs)\n\u001b[1;32m   2750\u001b[0m     sci(__ret)\n\u001b[1;32m   2751\u001b[0m     \u001b[39mreturn\u001b[39;00m __ret\n",
      "File \u001b[0;32m~/anaconda3/lib/python3.10/site-packages/matplotlib/pyplot.py:2282\u001b[0m, in \u001b[0;36mgca\u001b[0;34m()\u001b[0m\n\u001b[1;32m   2280\u001b[0m \u001b[39m@_copy_docstring_and_deprecators\u001b[39m(Figure\u001b[39m.\u001b[39mgca)\n\u001b[1;32m   2281\u001b[0m \u001b[39mdef\u001b[39;00m \u001b[39mgca\u001b[39m():\n\u001b[0;32m-> 2282\u001b[0m     \u001b[39mreturn\u001b[39;00m gcf()\u001b[39m.\u001b[39;49mgca()\n",
      "File \u001b[0;32m~/anaconda3/lib/python3.10/site-packages/matplotlib/figure.py:1615\u001b[0m, in \u001b[0;36mFigureBase.gca\u001b[0;34m(self)\u001b[0m\n\u001b[1;32m   1605\u001b[0m \u001b[39m\"\"\"\u001b[39;00m\n\u001b[1;32m   1606\u001b[0m \u001b[39mGet the current Axes.\u001b[39;00m\n\u001b[1;32m   1607\u001b[0m \n\u001b[0;32m   (...)\u001b[0m\n\u001b[1;32m   1612\u001b[0m \u001b[39mwhether `.pyplot.get_fignums()` is empty.)\u001b[39;00m\n\u001b[1;32m   1613\u001b[0m \u001b[39m\"\"\"\u001b[39;00m\n\u001b[1;32m   1614\u001b[0m ax \u001b[39m=\u001b[39m \u001b[39mself\u001b[39m\u001b[39m.\u001b[39m_axstack\u001b[39m.\u001b[39mcurrent()\n\u001b[0;32m-> 1615\u001b[0m \u001b[39mreturn\u001b[39;00m ax \u001b[39mif\u001b[39;00m ax \u001b[39mis\u001b[39;00m \u001b[39mnot\u001b[39;00m \u001b[39mNone\u001b[39;00m \u001b[39melse\u001b[39;00m \u001b[39mself\u001b[39;49m\u001b[39m.\u001b[39;49madd_subplot()\n",
      "File \u001b[0;32m~/anaconda3/lib/python3.10/site-packages/matplotlib/figure.py:743\u001b[0m, in \u001b[0;36mFigureBase.add_subplot\u001b[0;34m(self, *args, **kwargs)\u001b[0m\n\u001b[1;32m    740\u001b[0m         args \u001b[39m=\u001b[39m \u001b[39mtuple\u001b[39m(\u001b[39mmap\u001b[39m(\u001b[39mint\u001b[39m, \u001b[39mstr\u001b[39m(args[\u001b[39m0\u001b[39m])))\n\u001b[1;32m    741\u001b[0m     projection_class, pkw \u001b[39m=\u001b[39m \u001b[39mself\u001b[39m\u001b[39m.\u001b[39m_process_projection_requirements(\n\u001b[1;32m    742\u001b[0m         \u001b[39m*\u001b[39margs, \u001b[39m*\u001b[39m\u001b[39m*\u001b[39mkwargs)\n\u001b[0;32m--> 743\u001b[0m     ax \u001b[39m=\u001b[39m projection_class(\u001b[39mself\u001b[39;49m, \u001b[39m*\u001b[39;49margs, \u001b[39m*\u001b[39;49m\u001b[39m*\u001b[39;49mpkw)\n\u001b[1;32m    744\u001b[0m     key \u001b[39m=\u001b[39m (projection_class, pkw)\n\u001b[1;32m    745\u001b[0m \u001b[39mreturn\u001b[39;00m \u001b[39mself\u001b[39m\u001b[39m.\u001b[39m_add_axes_internal(ax, key)\n",
      "File \u001b[0;32m~/anaconda3/lib/python3.10/site-packages/matplotlib/axes/_base.py:656\u001b[0m, in \u001b[0;36m_AxesBase.__init__\u001b[0;34m(self, fig, facecolor, frameon, sharex, sharey, label, xscale, yscale, box_aspect, *args, **kwargs)\u001b[0m\n\u001b[1;32m    654\u001b[0m \u001b[39mself\u001b[39m\u001b[39m.\u001b[39m_sharey \u001b[39m=\u001b[39m sharey\n\u001b[1;32m    655\u001b[0m \u001b[39mself\u001b[39m\u001b[39m.\u001b[39mset_label(label)\n\u001b[0;32m--> 656\u001b[0m \u001b[39mself\u001b[39;49m\u001b[39m.\u001b[39;49mset_figure(fig)\n\u001b[1;32m    657\u001b[0m \u001b[39m# The subplotspec needs to be set after the figure (so that\u001b[39;00m\n\u001b[1;32m    658\u001b[0m \u001b[39m# figure-level subplotpars are taken into account), but the figure\u001b[39;00m\n\u001b[1;32m    659\u001b[0m \u001b[39m# needs to be set after self._position is initialized.\u001b[39;00m\n\u001b[1;32m    660\u001b[0m \u001b[39mif\u001b[39;00m subplotspec:\n",
      "File \u001b[0;32m~/anaconda3/lib/python3.10/site-packages/matplotlib/axes/_base.py:839\u001b[0m, in \u001b[0;36m_AxesBase.set_figure\u001b[0;34m(self, fig)\u001b[0m\n\u001b[1;32m    835\u001b[0m \u001b[39mself\u001b[39m\u001b[39m.\u001b[39m_viewLim \u001b[39m=\u001b[39m mtransforms\u001b[39m.\u001b[39mBbox\u001b[39m.\u001b[39munit()\n\u001b[1;32m    836\u001b[0m \u001b[39mself\u001b[39m\u001b[39m.\u001b[39mtransScale \u001b[39m=\u001b[39m mtransforms\u001b[39m.\u001b[39mTransformWrapper(\n\u001b[1;32m    837\u001b[0m     mtransforms\u001b[39m.\u001b[39mIdentityTransform())\n\u001b[0;32m--> 839\u001b[0m \u001b[39mself\u001b[39;49m\u001b[39m.\u001b[39;49m_set_lim_and_transforms()\n",
      "File \u001b[0;32m~/anaconda3/lib/python3.10/site-packages/matplotlib/axes/_base.py:899\u001b[0m, in \u001b[0;36m_AxesBase._set_lim_and_transforms\u001b[0;34m(self)\u001b[0m\n\u001b[1;32m    894\u001b[0m \u001b[39mself\u001b[39m\u001b[39m.\u001b[39mtransAxes \u001b[39m=\u001b[39m mtransforms\u001b[39m.\u001b[39mBboxTransformTo(\u001b[39mself\u001b[39m\u001b[39m.\u001b[39mbbox)\n\u001b[1;32m    896\u001b[0m \u001b[39m# Transforms the x and y axis separately by a scale factor.\u001b[39;00m\n\u001b[1;32m    897\u001b[0m \u001b[39m# It is assumed that this part will have non-linear components\u001b[39;00m\n\u001b[1;32m    898\u001b[0m \u001b[39m# (e.g., for a log scale).\u001b[39;00m\n\u001b[0;32m--> 899\u001b[0m \u001b[39mself\u001b[39m\u001b[39m.\u001b[39mtransScale \u001b[39m=\u001b[39m mtransforms\u001b[39m.\u001b[39;49mTransformWrapper(\n\u001b[1;32m    900\u001b[0m     mtransforms\u001b[39m.\u001b[39;49mIdentityTransform())\n\u001b[1;32m    902\u001b[0m \u001b[39m# An affine transformation on the data, generally to limit the\u001b[39;00m\n\u001b[1;32m    903\u001b[0m \u001b[39m# range of the axes\u001b[39;00m\n\u001b[1;32m    904\u001b[0m \u001b[39mself\u001b[39m\u001b[39m.\u001b[39mtransLimits \u001b[39m=\u001b[39m mtransforms\u001b[39m.\u001b[39mBboxTransformFrom(\n\u001b[1;32m    905\u001b[0m     mtransforms\u001b[39m.\u001b[39mTransformedBbox(\u001b[39mself\u001b[39m\u001b[39m.\u001b[39m_viewLim, \u001b[39mself\u001b[39m\u001b[39m.\u001b[39mtransScale))\n",
      "File \u001b[0;32m~/anaconda3/lib/python3.10/site-packages/matplotlib/transforms.py:1703\u001b[0m, in \u001b[0;36mTransformWrapper.__init__\u001b[0;34m(self, child)\u001b[0m\n\u001b[1;32m   1701\u001b[0m _api\u001b[39m.\u001b[39mcheck_isinstance(Transform, child\u001b[39m=\u001b[39mchild)\n\u001b[1;32m   1702\u001b[0m \u001b[39msuper\u001b[39m()\u001b[39m.\u001b[39m\u001b[39m__init__\u001b[39m()\n\u001b[0;32m-> 1703\u001b[0m \u001b[39mself\u001b[39;49m\u001b[39m.\u001b[39;49mset(child)\n",
      "File \u001b[0;32m~/anaconda3/lib/python3.10/site-packages/matplotlib/transforms.py:1748\u001b[0m, in \u001b[0;36mTransformWrapper.set\u001b[0;34m(self, child)\u001b[0m\n\u001b[1;32m   1743\u001b[0m \u001b[39m# note we do not wrap other properties here since the transform's\u001b[39;00m\n\u001b[1;32m   1744\u001b[0m \u001b[39m# child can be changed with WrappedTransform.set and so checking\u001b[39;00m\n\u001b[1;32m   1745\u001b[0m \u001b[39m# is_affine and other such properties may be dangerous.\u001b[39;00m\n\u001b[1;32m   1747\u001b[0m \u001b[39mself\u001b[39m\u001b[39m.\u001b[39m_invalid \u001b[39m=\u001b[39m \u001b[39m0\u001b[39m\n\u001b[0;32m-> 1748\u001b[0m \u001b[39mself\u001b[39;49m\u001b[39m.\u001b[39;49minvalidate()\n\u001b[1;32m   1749\u001b[0m \u001b[39mself\u001b[39m\u001b[39m.\u001b[39m_invalid \u001b[39m=\u001b[39m \u001b[39m0\u001b[39m\n",
      "File \u001b[0;32m~/anaconda3/lib/python3.10/site-packages/matplotlib/transforms.py:165\u001b[0m, in \u001b[0;36mTransformNode.invalidate\u001b[0;34m(self)\u001b[0m\n\u001b[1;32m    163\u001b[0m \u001b[39mif\u001b[39;00m \u001b[39mself\u001b[39m\u001b[39m.\u001b[39mis_affine:\n\u001b[1;32m    164\u001b[0m     value \u001b[39m=\u001b[39m \u001b[39mself\u001b[39m\u001b[39m.\u001b[39mINVALID_AFFINE\n\u001b[0;32m--> 165\u001b[0m \u001b[39mreturn\u001b[39;00m \u001b[39mself\u001b[39;49m\u001b[39m.\u001b[39;49m_invalidate_internal(value, invalidating_node\u001b[39m=\u001b[39;49m\u001b[39mself\u001b[39;49m)\n",
      "File \u001b[0;32m~/anaconda3/lib/python3.10/site-packages/matplotlib/transforms.py:167\u001b[0m, in \u001b[0;36mTransformNode._invalidate_internal\u001b[0;34m(self, value, invalidating_node)\u001b[0m\n\u001b[1;32m    164\u001b[0m         value \u001b[39m=\u001b[39m \u001b[39mself\u001b[39m\u001b[39m.\u001b[39mINVALID_AFFINE\n\u001b[1;32m    165\u001b[0m     \u001b[39mreturn\u001b[39;00m \u001b[39mself\u001b[39m\u001b[39m.\u001b[39m_invalidate_internal(value, invalidating_node\u001b[39m=\u001b[39m\u001b[39mself\u001b[39m)\n\u001b[0;32m--> 167\u001b[0m \u001b[39mdef\u001b[39;00m \u001b[39m_invalidate_internal\u001b[39m(\u001b[39mself\u001b[39m, value, invalidating_node):\n\u001b[1;32m    168\u001b[0m     \u001b[39m\"\"\"\u001b[39;00m\n\u001b[1;32m    169\u001b[0m \u001b[39m    Called by :meth:`invalidate` and subsequently ascends the transform\u001b[39;00m\n\u001b[1;32m    170\u001b[0m \u001b[39m    stack calling each TransformNode's _invalidate_internal method.\u001b[39;00m\n\u001b[1;32m    171\u001b[0m \u001b[39m    \"\"\"\u001b[39;00m\n\u001b[1;32m    172\u001b[0m     \u001b[39m# determine if this call will be an extension to the invalidation\u001b[39;00m\n\u001b[1;32m    173\u001b[0m     \u001b[39m# status. If not, then a shortcut means that we needn't invoke an\u001b[39;00m\n\u001b[1;32m    174\u001b[0m     \u001b[39m# invalidation up the transform stack as it will already have been\u001b[39;00m\n\u001b[0;32m   (...)\u001b[0m\n\u001b[1;32m    180\u001b[0m     \u001b[39m# In most cases this is not a problem (i.e. for interactive panning and\u001b[39;00m\n\u001b[1;32m    181\u001b[0m     \u001b[39m# zooming) and the only side effect will be on performance.\u001b[39;00m\n",
      "\u001b[0;31mKeyboardInterrupt\u001b[0m: "
     ]
    }
   ],
   "source": [
    "%matplotlib qt\n",
    "for i in range(Nt):\n",
    "    if i%10==0:\n",
    "        plt.clf()\n",
    "        plt.pcolormesh(U[:,:,i], cmap=plt.cm.RdBu_r, vmin=0, vmax=(4))\n",
    "        plt.title(f't = {round(i*dt)}')\n",
    "        plt.pause(0.01)"
   ]
  }
 ],
 "metadata": {
  "kernelspec": {
   "display_name": "Python 3 (ipykernel)",
   "language": "python",
   "name": "python3"
  },
  "language_info": {
   "codemirror_mode": {
    "name": "ipython",
    "version": 3
   },
   "file_extension": ".py",
   "mimetype": "text/x-python",
   "name": "python",
   "nbconvert_exporter": "python",
   "pygments_lexer": "ipython3",
   "version": "3.10.9"
  }
 },
 "nbformat": 4,
 "nbformat_minor": 5
}
