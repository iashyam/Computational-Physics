{
 "cells": [
  {
   "cell_type": "code",
   "execution_count": 88,
   "id": "4e54f804-378f-4c00-a8c9-7b2882da09f1",
   "metadata": {
    "tags": []
   },
   "outputs": [],
   "source": [
    "import matplotlib.pyplot as plt\n",
    "import numpy as np\n",
    "from numpy import pi\n",
    "from scipy import fft\n",
    "\n",
    "%matplotlib inline\n",
    "plt.style.use('seaborn-v0_8-whitegrid')"
   ]
  },
  {
   "attachments": {},
   "cell_type": "markdown",
   "id": "6b2e2638-159f-4a53-9659-786abadd61f5",
   "metadata": {},
   "source": [
    "# Solving heat equation using spectral methods\n",
    "\n",
    "Our heat equation is this:\n",
    "\n",
    "\\begin{equation}\n",
    "\\frac{\\partial u}{\\partial t} = \\kappa \\nabla^2 u\n",
    "\\end{equation}\n",
    "\n",
    "We will slove this equation in a square box of legth $L$ first. \n",
    "\n",
    "To start solving this equation, we will first have to non-dimenssionalise it. Because computers don't understand the language of units. We need to find the natural length scale which can be easily identified as the length of the rod $L$. Now we define dimenssionless position as $x \\to \\frac{x}{L}$. Then we need to find the scale for time. If we put the length scale into the equation, we will find that the time scale is $\\tau = \\frac{L^2}{\\kappa}$. Then we define $t \\to \\frac{t}{\\tau}$. We also need to find a temperature scale, which doesn't effect our equation because it is on both side and will cancel out. But still we need to do that. The natural temperature scale is found in the intial  intial distribution of the temperature. Then this $T_0$ can we taken as temperature scale and the dimenssionless temperature would be $T \\to T/T_0$. Not that our space domain reduces to just $[0,1]$ in dimenssionless variables. Now we easily write the diffrential equation in dimenssionless variables:\n",
    "\n",
    "Then our equation becomes \n",
    "\n",
    "\\begin{equation}\n",
    "\\frac{\\partial u}{\\partial t} = \\nabla^2 u\n",
    "\\end{equation}\n",
    "\n",
    "To solve this equation, we will take spatial fourier transform on both side of the equation and then the $\\nabla$ operator becomes just $-k^2$. So our equation has this form now\n",
    "\n",
    "\\begin{equation}\n",
    "\\frac{\\partial \\hat{u}}{\\partial t} = -k^2 \\hat{u}\n",
    "\\end{equation}\n",
    "\n",
    "Then we can use any kind of integrator to solve this temporal equation, for the simplicity, we will use the Euler's method now, then we can imporve it by using Runge Kutta and other fancy method later. The equation at a later time will look like this\"\n",
    "\n",
    "\\begin{equation}\n",
    "\\hat{u}(t+\\Delta t) = \\hat{u} + \\Delta t (-k^2 \\hat{u})\n",
    "\\end{equation}\n",
    "\n",
    "Then we can take inverse fourier tranform to get back to the $u$ at that instant of time. \n",
    "\n",
    "Now we need boundary conditions, we will take simple boundary conditions as usual to model. \n",
    "The intial temeperature destribution is given by:\n",
    "\n",
    "$$u(r, 0) =  e^{-r^2}$$\n",
    "\n",
    "At the edges, the temperature is 0.\n",
    "\n",
    "$$u(0, y, t) = u(1, y, t) = u(x, 0, t) = u(x, 1, t) = 0$$\n",
    "\n",
    "Now we start solving the equation"
   ]
  },
  {
   "cell_type": "code",
   "execution_count": 89,
   "id": "91581adb-24e2-410b-b4fe-0f2bc3f5dbb6",
   "metadata": {
    "tags": []
   },
   "outputs": [],
   "source": [
    "t0 = 0 #intial time\n",
    "tf = 100 #final time\n",
    "dt = 1e-2 #time step\n",
    "\n",
    "Nt = int((tf-t0)/dt) #total number of time steps\n",
    "\n",
    "Nx = 32 #total number of spatial grid steps\n",
    "h = 1/Nx #the grid spacing\n",
    "\n",
    "xs = np.linspace(0,1, Nx)\n",
    "\n",
    "#making the intial temperature matrix\n",
    "U = np.zeros((Nx, Nx, Nt), dtype='float64')\n",
    "\n",
    "#putting in the intial conditions\n",
    "#intial temeprature distribution\n",
    "def To(x, y):\n",
    "    return 2*np.sin(x*np.pi*3)**2 + 3*np.cos(y*np.pi*3)**2\n",
    "\n",
    "for i in range(Nx):\n",
    "    for j in range(Nx):\n",
    "        x = i*h\n",
    "        y = j*h\n",
    "        U[i,j,0] =  To(x,y)\n",
    "        \n",
    "# #putting the edges at zero temp\n",
    "U[0, :, :] = 0\n",
    "U[-1, :, :] = 0\n",
    "U[:,0,:] = 0\n",
    "U[:,-1,:] = 0"
   ]
  },
  {
   "cell_type": "code",
   "execution_count": 90,
   "id": "2ec9238e-200a-43ad-b2bd-43688f22c514",
   "metadata": {
    "tags": []
   },
   "outputs": [
    {
     "data": {
      "image/png": "[encoded data removed]",
      "text/plain": [
       "<Figure size 640x480 with 1 Axes>"
      ]
     },
     "metadata": {},
     "output_type": "display_data"
    }
   ],
   "source": [
    "plt.pcolormesh(U[:,:,0], cmap=plt.cm.RdBu_r)\n",
    "plt.show()"
   ]
  },
  {
   "cell_type": "code",
   "execution_count": 91,
   "id": "616373cc-9123-48f2-9e54-abb54e0a4fee",
   "metadata": {},
   "outputs": [],
   "source": [
    "#applyting spectral method\n",
    "for i in range(1,Nt):\n",
    "    u = U[:, :, i-1]\n",
    "\n",
    "    u_hat = fft.fft2(u) #taking the fourier transform\n",
    "    k_spec = fft.fftfreq(Nx)\n",
    "\n",
    "    u_hat += -k_spec*k_spec*u_hat*dt\n",
    "\n",
    "    #taking the inverse fourier tranform\n",
    "    u_real = np.real(fft.ifft2(u_hat))\n",
    "\n",
    "    U[:,:,i] = u_real\n"
   ]
  },
  {
   "cell_type": "code",
   "execution_count": 92,
   "id": "9933dde4",
   "metadata": {},
   "outputs": [
    {
     "data": {
      "image/png": "[encoded data removed]",
      "text/plain": [
       "<Figure size 640x480 with 1 Axes>"
      ]
     },
     "metadata": {},
     "output_type": "display_data"
    }
   ],
   "source": [
    "plt.pcolormesh(U[:,:,600], cmap=plt.cm.RdBu_r)\n",
    "plt.show()"
   ]
  },
  {
   "cell_type": "code",
   "execution_count": 93,
   "id": "bf4c358b",
   "metadata": {},
   "outputs": [],
   "source": [
    "%matplotlib qt\n",
    "for i in range(Nt):\n",
    "    if i%100==0:\n",
    "        plt.clf()\n",
    "        plt.pcolormesh(U[:,:,i], cmap=plt.cm.RdBu_r)\n",
    "        plt.title(f't = {i*dt}')\n",
    "        plt.pause(0.5)"
   ]
  },
  {
   "cell_type": "code",
   "execution_count": null,
   "id": "2e81a0e7",
   "metadata": {},
   "outputs": [],
   "source": []
  }
 ],
 "metadata": {
  "kernelspec": {
   "display_name": "Python 3 (ipykernel)",
   "language": "python",
   "name": "python3"
  },
  "language_info": {
   "codemirror_mode": {
    "name": "ipython",
    "version": 3
   },
   "file_extension": ".py",
   "mimetype": "text/x-python",
   "name": "python",
   "nbconvert_exporter": "python",
   "pygments_lexer": "ipython3",
   "version": "3.10.9"
  }
 },
 "nbformat": 4,
 "nbformat_minor": 5
}
