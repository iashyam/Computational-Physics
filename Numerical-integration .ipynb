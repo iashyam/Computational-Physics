{
 "cells": [
  {
   "attachments": {},
   "cell_type": "markdown",
   "id": "expensive-humor",
   "metadata": {},
   "source": [
    "# Numerical Integration \n",
    "\n",
    "Numerical integration is very interesting and useful topic in this whole topic of computional physics. There are various method of Integraion. We will discuss.\n",
    "\n",
    "1. Tropezoidal Method\n",
    "2. Simpson's Integration \n",
    "3. Gaussian Quadrature\n",
    "4. Monte-Carlo"
   ]
  }
 ],
 "metadata": {
  "kernelspec": {
   "display_name": "Python 3",
   "language": "python",
   "name": "python3"
  },
  "language_info": {
   "codemirror_mode": {
    "name": "ipython",
    "version": 3
   },
   "file_extension": ".py",
   "mimetype": "text/x-python",
   "name": "python",
   "nbconvert_exporter": "python",
   "pygments_lexer": "ipython3",
   "version": "3.9.2"
  }
 },
 "nbformat": 4,
 "nbformat_minor": 5
}
