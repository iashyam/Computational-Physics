{
 "cells": [
  {
   "cell_type": "markdown",
   "id": "expensive-humor",
   "metadata": {},
   "source": [
    "# Numerical Integration \n",
    "\n",
    "Numerical integration is very interesting and useful topic in this whole topic of computional physics. There are various method of Integraion. We will discuss.\n",
    "\n",
    "1. Tropezoidal Method\n",
    "2. Simpson's Integration \n",
    "3. Gaussian Quadrature\n",
    "4. Monte-Carlo"
   ]
  },
  {
   "cell_type": "code",
   "execution_count": 5,
   "id": "proof-connectivity",
   "metadata": {},
   "outputs": [
    {
     "name": "stdout",
     "output_type": "stream",
     "text": [
      "[4.0, 5.2, 7.199999999999999, 9.200000000000001, 8.0]\n"
     ]
    }
   ],
   "source": [
    "marks = [10,13,18,23,20]\n",
    "\n",
    "cps = []\n",
    "for mark in marks:\n",
    "    cps.append(mark/25*10)\n",
    "print(cps)"
   ]
  },
  {
   "cell_type": "code",
   "execution_count": 7,
   "id": "pacific-thickness",
   "metadata": {},
   "outputs": [
    {
     "data": {
      "text/plain": [
       "5.12"
      ]
     },
     "execution_count": 7,
     "metadata": {},
     "output_type": "execute_result"
    }
   ],
   "source": []
  },
  {
   "cell_type": "code",
   "execution_count": 9,
   "id": "lyric-dressing",
   "metadata": {},
   "outputs": [
    {
     "name": "stdout",
     "output_type": "stream",
     "text": [
      "Yo Yo Honey Singh!!\n"
     ]
    }
   ],
   "source": [
    "print(\"Yo Yo Honey Singh!!\")"
   ]
  },
  {
   "cell_type": "code",
   "execution_count": null,
   "id": "operational-watts",
   "metadata": {},
   "outputs": [],
   "source": []
  }
 ],
 "metadata": {
  "kernelspec": {
   "display_name": "Python 3",
   "language": "python",
   "name": "python3"
  },
  "language_info": {
   "codemirror_mode": {
    "name": "ipython",
    "version": 3
   },
   "file_extension": ".py",
   "mimetype": "text/x-python",
   "name": "python",
   "nbconvert_exporter": "python",
   "pygments_lexer": "ipython3",
   "version": "3.9.2"
  }
 },
 "nbformat": 4,
 "nbformat_minor": 5
}
