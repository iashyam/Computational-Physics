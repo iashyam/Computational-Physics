{
 "cells": [
  {
   "cell_type": "code",
   "execution_count": 2,
   "id": "electrical-clarity",
   "metadata": {},
   "outputs": [],
   "source": [
    "import numpy as np\n",
    "import matplotlib.pyplot as plt\n",
    "import math\n",
    "from math import pi, sqrt"
   ]
  },
  {
   "cell_type": "markdown",
   "id": "completed-career",
   "metadata": {},
   "source": [
    "# Leap Frog Method"
   ]
  },
  {
   "cell_type": "markdown",
   "id": "imported-underground",
   "metadata": {},
   "source": [
    "Let' say we want to solve the simple harmonic oscilattor equation\n",
    "\n",
    "$$\\frac{d^2y}{dx^2} = -\\omega^2x$$"
   ]
  },
  {
   "cell_type": "markdown",
   "id": "south-demand",
   "metadata": {},
   "source": [
    "So the leap frog algorithm is like\n",
    "\n",
    "$$ y_{n} = y_n + hv_{n+1/2} $$\n",
    "$$ v_{n+3/2} = v_{n+1/2} - h\\omega^2 y_{n} $$"
   ]
  },
  {
   "cell_type": "code",
   "execution_count": null,
   "id": "weighted-burton",
   "metadata": {},
   "outputs": [],
   "source": [
    "omega = 1\n",
    "y = 0\n",
    "v = 1\n",
    "x = 0\n",
    "xf = 1e1\n",
    "n = 1000\n",
    "h = (xf-x)/n\n",
    "ys = []\n",
    "vs = []\n",
    "xs = []"
   ]
  },
  {
   "cell_type": "code",
   "execution_count": null,
   "id": "imported-symbol",
   "metadata": {},
   "outputs": [],
   "source": [
    "def f(x):\n",
    "    return -omega**2*x"
   ]
  },
  {
   "cell_type": "code",
   "execution_count": null,
   "id": "restricted-hungarian",
   "metadata": {},
   "outputs": [],
   "source": [
    "for i in range(n):\n",
    "    v12 = v + h*f(y)\n",
    "    y += h*v12\n",
    "    v = v12 + h*f(y)\n",
    "    \n",
    "    x += h\n",
    "    xs.append(x)\n",
    "    ys.append(y)\n",
    "    vs.append(v)"
   ]
  },
  {
   "cell_type": "code",
   "execution_count": null,
   "id": "hungry-thong",
   "metadata": {},
   "outputs": [],
   "source": [
    "import matplotlib.pyplot as plt\n",
    "plt.plot(xs,ys)"
   ]
  },
  {
   "cell_type": "code",
   "execution_count": null,
   "id": "improved-variety",
   "metadata": {},
   "outputs": [],
   "source": [
    "omega = 1\n",
    "y = 0\n",
    "v = 1\n",
    "x = 0\n",
    "xf = 1e2\n",
    "n = 1000\n",
    "h = (xf-x)/n\n",
    "ys = []\n",
    "vs = []\n",
    "xs = []\n",
    "\n",
    "for i in range(n):\n",
    "    y += v*h\n",
    "    v += f(y)*h\n",
    "    x += h\n",
    "    ys.append(y)\n",
    "    xs.append(x)\n",
    "    vs.append(v)\n",
    "    \n",
    "omega = 1\n",
    "y = 0\n",
    "v = 1\n",
    "x = 0\n",
    "xf = 1e2\n",
    "n = 1000\n",
    "h = (xf-x)/n\n",
    "\n",
    "ys_l = []\n",
    "vs_l = []\n",
    "xs_l = []\n",
    "\n",
    "for i in range(n):\n",
    "    v += h*f(y)/2\n",
    "    y += h*v\n",
    "    v += h*f(y)/2\n",
    "    \n",
    "    x += h\n",
    "    xs_l.append(x)\n",
    "    ys_l.append(y)\n",
    "    vs_l.append(v)"
   ]
  },
  {
   "cell_type": "code",
   "execution_count": null,
   "id": "comparable-burning",
   "metadata": {},
   "outputs": [],
   "source": [
    "plt.plot(xs,ys, label = 'Euler')\n",
    "# plt.plot(xs_l,ys_l,label=\"Leap Frog\")\n",
    "plt.legend();"
   ]
  },
  {
   "cell_type": "code",
   "execution_count": null,
   "id": "postal-affairs",
   "metadata": {},
   "outputs": [],
   "source": [
    "plt.plot(ys_l,vs_l)\n",
    "plt.axis(\"equal\");"
   ]
  },
  {
   "cell_type": "markdown",
   "id": "signal-timing",
   "metadata": {},
   "source": [
    "# solving newton's lows using verlet algorithms\n",
    "\n",
    "$$ s\\'{o}cC $$"
   ]
  },
  {
   "cell_type": "markdown",
   "id": "numerous-graphic",
   "metadata": {},
   "source": [
    "So the coupled differential equation for the system of planet orbiting around the star is:\n",
    "\n",
    "\n",
    "$$\\frac{d^2x}{dt^2} = -\\frac{x}{(x^2+y^2)^{3/2}}$$\n",
    "$$\\frac{d^2y}{dt^2} = -\\frac{y}{(x^2+y^2)^{3/2}}$$"
   ]
  },
  {
   "cell_type": "code",
   "execution_count": null,
   "id": "excellent-infrastructure",
   "metadata": {},
   "outputs": [],
   "source": [
    "#intial varivables\n",
    "x = 2\n",
    "y = 0\n",
    "vx = 0\n",
    "vy = 0.6\n",
    "t = 0\n",
    "tf = 50\n",
    "\n",
    "n = 1000\n",
    "h = (tf-t)/n\n",
    "\n",
    "#lists to store varivabels\n",
    "xs = [x]\n",
    "ys = [y]\n",
    "ts = [t]\n",
    "\n",
    "\n",
    "def ax(x,y):\n",
    "    return -x/pow(x**2 + y**2, 3/2)\n",
    "        \n",
    "\n",
    "def ay(x,y):\n",
    "    return -y/pow(x**2 + y**2, 3/2)\n",
    "\n",
    "# the verlet algorithms\n",
    "for i in range(n):\n",
    "    vx += h/2*ax(x,y)\n",
    "    vy += h/2*ay(x,y)\n",
    "    \n",
    "    x += vx*h\n",
    "    y += vy*h\n",
    "    \n",
    "    vx += h/2*ax(x,y)\n",
    "    vy += h/2*ay(x,y)\n",
    "    \n",
    "    t += h\n",
    "    \n",
    "    xs.append(x)\n",
    "    ys.append(y)\n",
    "    ts.append(t)\n",
    "    "
   ]
  },
  {
   "cell_type": "code",
   "execution_count": null,
   "id": "passing-tablet",
   "metadata": {},
   "outputs": [],
   "source": [
    "plt.plot(xs,ys)"
   ]
  },
  {
   "cell_type": "code",
   "execution_count": null,
   "id": "ahead-orchestra",
   "metadata": {},
   "outputs": [],
   "source": [
    "plt.plot(ts,xs, label=\"Xs\")\n",
    "plt.plot(ts,ys, label= \"ys\")\n",
    "plt.legend();"
   ]
  },
  {
   "cell_type": "markdown",
   "id": "loose-fraction",
   "metadata": {},
   "source": [
    "A simple __N-Body__ simulation problem is gievn here:\n",
    "\n",
    "$$F(\\textbf{x}) = \\sum_{i=1}^{n} \\frac{GMm_i}{|x-x_i|^3}(x-x_i)$$"
   ]
  },
  {
   "cell_type": "code",
   "execution_count": 46,
   "id": "personalized-discussion",
   "metadata": {},
   "outputs": [],
   "source": [
    "G = 1\n",
    "M = 1.989e30 #mass of sun\n",
    "Me = 5.9e24"
   ]
  },
  {
   "cell_type": "code",
   "execution_count": 71,
   "id": "buried-prediction",
   "metadata": {},
   "outputs": [],
   "source": [
    "#initial conditions\n",
    "N = 2 #this is N body probms\n",
    "dim = 1 #number of dimession\n",
    "\n",
    "# Ms = np.array([0.330, 4.87, 5.97,0.642,1898,568,86.8,102])\n",
    "Ms = [100,2]\n",
    "Ms = Ms\n",
    "steps = 100\n",
    "\n",
    "xs = np.zeros((steps,N))\n",
    "ys = np.zeros((steps,N))\n",
    "# xs[0] = np.array((57.9,108.2,149.6,227.9,778.6,1433.5,2872.5,4495.1))\n",
    "xs[0] = np.array([0,2])\n",
    "ys[0] = np.array([0,0])"
   ]
  },
  {
   "cell_type": "code",
   "execution_count": 72,
   "id": "sitting-machine",
   "metadata": {},
   "outputs": [],
   "source": [
    "def ax(i, iteration,x,y):\n",
    "    s = 0\n",
    "    for l in range(N):\n",
    "        if l ==i:\n",
    "            continue\n",
    "        else:\n",
    "            r = ((x-xs[iteration][l])**2 + (y-ys[iteration][l])**2)**(1.5)\n",
    "            if r==0:\n",
    "                return 0\n",
    "            s += -(x-xs[iteration][l])/r\n",
    "\n",
    "    return s\n",
    "\n",
    "def ay(i, iteration, x,y):\n",
    "    s = 0\n",
    "    for l in range(N):\n",
    "        if l ==i:\n",
    "            continue\n",
    "        else:\n",
    "            r = ((x-xs[iteration][l])**2 + (y-ys[iteration][l])**2)**(1.5)\n",
    "            if r == 0:\n",
    "                return 0\n",
    "            s += -(y-ys[iteration][l])/r\n",
    "\n",
    "    return s   "
   ]
  },
  {
   "cell_type": "code",
   "execution_count": 73,
   "id": "interior-queen",
   "metadata": {},
   "outputs": [],
   "source": [
    "vx =  np.zeros((steps,N))\n",
    "vy = np.zeros((steps,N))\n",
    "# vs[0] = np.array((47.4,35.0,29.8,24.1,13.1,9.7,6.8,5.4))\n",
    "vx[0] = np.array((0,0))\n",
    "vy[0] = np.array((0,0.6))\n",
    "t = 0\n",
    "tf = 10\n",
    "ts = np.linspace(t,tf,steps)\n",
    "dt = np.diff(ts)[0]"
   ]
  },
  {
   "cell_type": "code",
   "execution_count": 74,
   "id": "continent-solomon",
   "metadata": {},
   "outputs": [],
   "source": [
    "for step in range(steps):\n",
    "    \n",
    "    for i in range(N):\n",
    "        vx[step][i] = vx[step-1][i] + ax(i, step-1, xs[step-1][i], ys[step-1][i])*dt/2\n",
    "        vy[step][i] = vx[step-1][i] + ay(i, step-1, xs[step-1][i], ys[step-1][i])*dt/2\n",
    "        \n",
    "        xs[step-1][i] = xs[step-1][i] + dt*vx[step][i]\n",
    "        ys[step-1][i] = ys[step-1][i] + dt*vy[step][i]\n",
    "        \n",
    "#         print(ay(i, step, xs[step][i], ys[step][i])*dt/2)\n",
    "        \n",
    "        vx[step][i] += ax(i, step, xs[step][i], ys[step][i])*dt/2\n",
    "        vy[step][i] += ay(i, step, xs[step][i], ys[step][i])*dt/2\n",
    "        \n",
    "        "
   ]
  },
  {
   "cell_type": "code",
   "execution_count": 75,
   "id": "greater-blanket",
   "metadata": {},
   "outputs": [
    {
     "data": {
      "text/plain": [
       "array([[ 1.27538006e-03, -1.27456365e-03],\n",
       "       [ 2.55076013e-03,  2.77211588e+02],\n",
       "       [ 2.55076013e-03,  5.54425731e+02],\n",
       "       [ 2.55076013e-03,  8.31639873e+02],\n",
       "       [ 2.55076013e-03,  1.10885402e+03],\n",
       "       [ 2.55076013e-03,  1.38606816e+03],\n",
       "       [ 2.55076013e-03,  1.66328230e+03],\n",
       "       [ 2.55076013e-03,  1.94049644e+03],\n",
       "       [ 2.55076013e-03,  2.21771059e+03],\n",
       "       [ 2.55076013e-03,  2.49492473e+03],\n",
       "       [ 2.55076013e-03,  2.77213887e+03],\n",
       "       [ 2.55076013e-03,  3.04935301e+03],\n",
       "       [ 2.55076013e-03,  3.32656716e+03],\n",
       "       [ 2.55076013e-03,  3.60378130e+03],\n",
       "       [ 2.55076013e-03,  3.88099544e+03],\n",
       "       [ 2.55076013e-03,  4.15820958e+03],\n",
       "       [ 2.55076013e-03,  4.43542373e+03],\n",
       "       [ 2.55076013e-03,  4.71263787e+03],\n",
       "       [ 2.55076013e-03,  4.98985201e+03],\n",
       "       [ 2.55076013e-03,  5.26706615e+03],\n",
       "       [ 2.55076013e-03,  5.54428030e+03],\n",
       "       [ 2.55076013e-03,  5.82149444e+03],\n",
       "       [ 2.55076013e-03,  6.09870858e+03],\n",
       "       [ 2.55076013e-03,  6.37592272e+03],\n",
       "       [ 2.55076013e-03,  6.65313687e+03],\n",
       "       [ 2.55076013e-03,  6.93035101e+03],\n",
       "       [ 2.55076013e-03,  7.20756515e+03],\n",
       "       [ 2.55076013e-03,  7.48477929e+03],\n",
       "       [ 2.55076013e-03,  7.76199344e+03],\n",
       "       [ 2.55076013e-03,  8.03920758e+03],\n",
       "       [ 2.55076013e-03,  8.31642172e+03],\n",
       "       [ 2.55076013e-03,  8.59363586e+03],\n",
       "       [ 2.55076013e-03,  8.87085001e+03],\n",
       "       [ 2.55076013e-03,  9.14806415e+03],\n",
       "       [ 2.55076013e-03,  9.42527829e+03],\n",
       "       [ 2.55076013e-03,  9.70249243e+03],\n",
       "       [ 2.55076013e-03,  9.97970658e+03],\n",
       "       [ 2.55076013e-03,  1.02569207e+04],\n",
       "       [ 2.55076013e-03,  1.05341349e+04],\n",
       "       [ 2.55076013e-03,  1.08113490e+04],\n",
       "       [ 2.55076013e-03,  1.10885631e+04],\n",
       "       [ 2.55076013e-03,  1.13657773e+04],\n",
       "       [ 2.55076013e-03,  1.16429914e+04],\n",
       "       [ 2.55076013e-03,  1.19202056e+04],\n",
       "       [ 2.55076013e-03,  1.21974197e+04],\n",
       "       [ 2.55076013e-03,  1.24746339e+04],\n",
       "       [ 2.55076013e-03,  1.27518480e+04],\n",
       "       [ 2.55076013e-03,  1.30290621e+04],\n",
       "       [ 2.55076013e-03,  1.33062763e+04],\n",
       "       [ 2.55076013e-03,  1.35834904e+04],\n",
       "       [ 2.55076013e-03,  1.38607046e+04],\n",
       "       [ 2.55076013e-03,  1.41379187e+04],\n",
       "       [ 2.55076013e-03,  1.44151329e+04],\n",
       "       [ 2.55076013e-03,  1.46923470e+04],\n",
       "       [ 2.55076013e-03,  1.49695611e+04],\n",
       "       [ 2.55076013e-03,  1.52467753e+04],\n",
       "       [ 2.55076013e-03,  1.55239894e+04],\n",
       "       [ 2.55076013e-03,  1.58012036e+04],\n",
       "       [ 2.55076013e-03,  1.60784177e+04],\n",
       "       [ 2.55076013e-03,  1.63556319e+04],\n",
       "       [ 2.55076013e-03,  1.66328460e+04],\n",
       "       [ 2.55076013e-03,  1.69100601e+04],\n",
       "       [ 2.55076013e-03,  1.71872743e+04],\n",
       "       [ 2.55076013e-03,  1.74644884e+04],\n",
       "       [ 2.55076013e-03,  1.77417026e+04],\n",
       "       [ 2.55076013e-03,  1.80189167e+04],\n",
       "       [ 2.55076013e-03,  1.82961309e+04],\n",
       "       [ 2.55076013e-03,  1.85733450e+04],\n",
       "       [ 2.55076013e-03,  1.88505591e+04],\n",
       "       [ 2.55076013e-03,  1.91277733e+04],\n",
       "       [ 2.55076013e-03,  1.94049874e+04],\n",
       "       [ 2.55076013e-03,  1.96822016e+04],\n",
       "       [ 2.55076013e-03,  1.99594157e+04],\n",
       "       [ 2.55076013e-03,  2.02366298e+04],\n",
       "       [ 2.55076013e-03,  2.05138440e+04],\n",
       "       [ 2.55076013e-03,  2.07910581e+04],\n",
       "       [ 2.55076013e-03,  2.10682723e+04],\n",
       "       [ 2.55076013e-03,  2.13454864e+04],\n",
       "       [ 2.55076013e-03,  2.16227006e+04],\n",
       "       [ 2.55076013e-03,  2.18999147e+04],\n",
       "       [ 2.55076013e-03,  2.21771288e+04],\n",
       "       [ 2.55076013e-03,  2.24543430e+04],\n",
       "       [ 2.55076013e-03,  2.27315571e+04],\n",
       "       [ 2.55076013e-03,  2.30087713e+04],\n",
       "       [ 2.55076013e-03,  2.32859854e+04],\n",
       "       [ 2.55076013e-03,  2.35631996e+04],\n",
       "       [ 2.55076013e-03,  2.38404137e+04],\n",
       "       [ 2.55076013e-03,  2.41176278e+04],\n",
       "       [ 2.55076013e-03,  2.43948420e+04],\n",
       "       [ 2.55076013e-03,  2.46720561e+04],\n",
       "       [ 2.55076013e-03,  2.49492703e+04],\n",
       "       [ 2.55076013e-03,  2.52264844e+04],\n",
       "       [ 2.55076013e-03,  2.55036986e+04],\n",
       "       [ 2.55076013e-03,  2.57809127e+04],\n",
       "       [ 2.55076013e-03,  2.60581268e+04],\n",
       "       [ 2.55076013e-03,  2.63353410e+04],\n",
       "       [ 2.55076013e-03,  2.66125551e+04],\n",
       "       [ 2.55076013e-03,  2.68897693e+04],\n",
       "       [ 2.55076013e-03,  2.71669834e+04],\n",
       "       [ 0.00000000e+00,  0.00000000e+00]])"
      ]
     },
     "execution_count": 75,
     "metadata": {},
     "output_type": "execute_result"
    }
   ],
   "source": [
    "ys"
   ]
  },
  {
   "cell_type": "code",
   "execution_count": 78,
   "id": "superior-costa",
   "metadata": {},
   "outputs": [],
   "source": [
    "xxs = [xs[i][1] for i in range(steps)]\n",
    "yys = [ys[i][1] for i in range(steps)]"
   ]
  },
  {
   "cell_type": "code",
   "execution_count": 79,
   "id": "terminal-fisher",
   "metadata": {},
   "outputs": [
    {
     "data": {
      "image/png": "[encoded data removed]",
      "text/plain": [
       "<Figure size 432x288 with 1 Axes>"
      ]
     },
     "metadata": {
      "needs_background": "light"
     },
     "output_type": "display_data"
    }
   ],
   "source": [
    "plt.plot(xxs,yys);"
   ]
  },
  {
   "cell_type": "code",
   "execution_count": 64,
   "id": "armed-resistance",
   "metadata": {},
   "outputs": [
    {
     "data": {
      "text/plain": [
       "array([[ 0.390625  ,  1.50959986],\n",
       "       [ 0.390625  ,  1.31979322],\n",
       "       [ 0.390625  ,  3.12998658],\n",
       "       [ 0.390625  ,  4.94017994],\n",
       "       [ 0.390625  ,  6.7503733 ],\n",
       "       [ 0.390625  ,  8.56056666],\n",
       "       [ 0.390625  , 10.37076002],\n",
       "       [ 0.390625  , 12.18095338],\n",
       "       [ 0.        ,  0.        ]])"
      ]
     },
     "execution_count": 64,
     "metadata": {},
     "output_type": "execute_result"
    }
   ],
   "source": [
    "xs"
   ]
  },
  {
   "cell_type": "code",
   "execution_count": 283,
   "id": "unique-polyester",
   "metadata": {},
   "outputs": [],
   "source": [
    "def ax(i, iteration, x, y):\n",
    "    r = ((x-xs[iteration][i])**2 + (y-ys[iteration][i])**2)**(1.5)\n",
    "    if r==0:\n",
    "        return 0\n",
    "    return -(x-xs[iteration][i])/r\n",
    "\n",
    "def ay(i, iteration, x, y):\n",
    "    r = ((x-xs[iteration][i])**2 + (y-ys[iteration][i])**2)**(1.5)\n",
    "    if r==0:\n",
    "        return 0\n",
    "    return -(y-ys[iteration][i])/r"
   ]
  },
  {
   "cell_type": "code",
   "execution_count": null,
   "id": "compact-medline",
   "metadata": {},
   "outputs": [],
   "source": []
  }
 ],
 "metadata": {
  "kernelspec": {
   "display_name": "Python 3",
   "language": "python",
   "name": "python3"
  },
  "language_info": {
   "codemirror_mode": {
    "name": "ipython",
    "version": 3
   },
   "file_extension": ".py",
   "mimetype": "text/x-python",
   "name": "python",
   "nbconvert_exporter": "python",
   "pygments_lexer": "ipython3",
   "version": "3.9.2"
  }
 },
 "nbformat": 4,
 "nbformat_minor": 5
}
