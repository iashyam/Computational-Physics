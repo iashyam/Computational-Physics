{
 "cells": [
  {
   "cell_type": "code",
   "execution_count": 1,
   "metadata": {},
   "outputs": [],
   "source": [
    "def bisection(f,a,b): #bisection(function, lower bound,upperbound)\n",
    "    tol = 1e-16 #setting a tolrence for the soltution\n",
    "    max_iter = 1e4 #making sure that it doesn't go infinitely\n",
    "    count = 0 #counting total iterations\n",
    "    low = a\n",
    "    high = b\n",
    "    if f(a)*f(b)>0:\n",
    "        return 'Invalid Boundiries Please Try again!'\n",
    "    else:\n",
    "        while abs(high-low)>tol and count<max_iter:\n",
    "            mid = (low+high)/2\n",
    "            if f(mid)*f(low)>0:\n",
    "                low = mid\n",
    "            elif f(mid)*f(high)>0:\n",
    "                high = mid\n",
    "            count += 1\n",
    "    print(f'Total iterations = {count}')\n",
    "    return mid\n",
    "\n"
   ]
  },
  {
   "cell_type": "code",
   "execution_count": 2,
   "metadata": {},
   "outputs": [],
   "source": [
    "def f1(x):\n",
    "    return x**2-3"
   ]
  },
  {
   "cell_type": "code",
   "execution_count": 3,
   "metadata": {},
   "outputs": [
    {
     "name": "stdout",
     "output_type": "stream",
     "text": [
      "Total iterations = 10000\n",
      "3.141592653589793\n",
      "3.141592653589793\n"
     ]
    }
   ],
   "source": [
    "import math\n",
    "print(2*bisection(math.cos, 0, 2))\n",
    "print(math.pi)"
   ]
  }
 ],
 "metadata": {
  "kernelspec": {
   "display_name": "Python 3",
   "language": "python",
   "name": "python3"
  },
  "language_info": {
   "codemirror_mode": {
    "name": "ipython",
    "version": 3
   },
   "file_extension": ".py",
   "mimetype": "text/x-python",
   "name": "python",
   "nbconvert_exporter": "python",
   "pygments_lexer": "ipython3",
   "version": "3.8.5"
  }
 },
 "nbformat": 4,
 "nbformat_minor": 2
}
