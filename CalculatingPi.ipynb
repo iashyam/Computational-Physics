{
 "cells": [
  {
   "cell_type": "markdown",
   "metadata": {},
   "source": [
    " # Various Methods to calculate $\\pi$\n",
    " \n",
    " ### Through infinite sum\n",
    " \n",
    " \n",
    " We will use taylor series expension to obtain a  infinite sum to calculate the value of $\\pi$\n",
    " \n",
    " We know that \n",
    " $$ \\frac{d}{dx}tan^{-1}(x) = \\frac{1}{1+x^2} $$\n",
    " \n",
    " \n",
    " Integrating both side:\n",
    " $$ \\int{\\frac{d}{dx}tan^{-1}(x)} dx = \\int{\\frac{1}{1+x^2}}dx $$\n",
    " \n",
    " \n",
    " $$tan^{-1}(x) = \\int{(1 - x^2 + x^4 - x^6 + \\cdots)}dx$$\n",
    " \n",
    " \n",
    " $$tan^{-1}(x) = \\int{\\sum^{\\infty}_{n=0} (-1)^n x^{2n}}dx$$\n",
    " \n",
    " \n",
    " $$ tan^{-1}(x) = \\sum^{\\infty}_{n=0} (-1)^n \\int{x^{2n}}dx $$\n",
    " \n",
    " \n",
    " $$  tan^{-1}(x) = \\sum^{\\infty}_{n=0} (-1)^n \\frac{x^{2n+1}}{2n+1}  + C$$\n",
    " \n",
    " \n",
    " To calculate the constant C we calcute this at $x = 0$ so\n",
    " \n",
    " \n",
    " $$ tan^{-1}(0) = 0 + C $$\n",
    " $$ C = 0 $$\n",
    " \n",
    " \n",
    " At $x = 1$\n",
    " \n",
    " $$ tan^{-1}(1) = \\frac{\\pi}{4} = \\sum^{\\infty}_{n=0} (-1)^n \\frac{1}{2n+1} $$\n",
    " \n",
    " \n",
    " \\begin{equation}\n",
    "        \\pi =  \\sum_{n=0}^{\\infty} \\frac{4(-1)^n}{2n+1}\n",
    " \\end{equation}"
   ]
  },
  {
   "cell_type": "markdown",
   "metadata": {},
   "source": [
    "The good thing with this that this doesn't depand on anything but the number of terms we add itno the series so as much as terms we keep adding the more accurate result we will get. It turns out that we will get accuracy to one more decimal point if we ten times the number of terms... \n",
    "\n",
    "\n",
    "Here is shown a simple program to calcute $\\pi$ till as much as decimal places you want.\n",
    "\n",
    "\n",
    "But the Throwback to this method is that to get $6$ digits of accuracy we will need to perform the for loop $10$ Million times that takes time and memory uses so with this computer we can't get much out from it."
   ]
  },
  {
   "cell_type": "code",
   "execution_count": 1,
   "metadata": {
    "scrolled": false
   },
   "outputs": [
    {
     "name": "stdout",
     "output_type": "stream",
     "text": [
      "Enter Number of digits after decimal you want: 4\n",
      "𝜋 =  3.1416\n"
     ]
    }
   ],
   "source": [
    "a = int(input(\"Enter Number of digits after decimal you want: \"))\n",
    "max_iter = 10**(a+1)\n",
    "pi = 0\n",
    "for n in range(max_iter):\n",
    "    pi += 4*(-1)**n/(2*n+1)\n",
    "print('𝜋 = ',round(pi,a))  "
   ]
  }
 ],
 "metadata": {
  "kernelspec": {
   "display_name": "Python 3",
   "language": "python",
   "name": "python3"
  },
  "language_info": {
   "codemirror_mode": {
    "name": "ipython",
    "version": 3
   },
   "file_extension": ".py",
   "mimetype": "text/x-python",
   "name": "python",
   "nbconvert_exporter": "python",
   "pygments_lexer": "ipython3",
   "version": "3.8.5"
  }
 },
 "nbformat": 4,
 "nbformat_minor": 4
}
