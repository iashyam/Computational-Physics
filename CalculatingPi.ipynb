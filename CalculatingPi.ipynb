{
  "nbformat": 4,
  "nbformat_minor": 0,
  "metadata": {
    "kernelspec": {
      "display_name": "Python 3",
      "language": "python",
      "name": "python3"
    },
    "language_info": {
      "codemirror_mode": {
        "name": "ipython",
        "version": 3
      },
      "file_extension": ".py",
      "mimetype": "text/x-python",
      "name": "python",
      "nbconvert_exporter": "python",
      "pygments_lexer": "ipython3",
      "version": "3.8.5"
    },
    "colab": {
      "name": "CalculatingPi.ipynb",
      "provenance": [],
      "collapsed_sections": [],
      "include_colab_link": true
    }
  },
  "cells": [
    {
      "cell_type": "markdown",
      "metadata": {
        "id": "view-in-github",
        "colab_type": "text"
      },
      "source": [
        "<a href=\"https://colab.research.google.com/github/iashyam/Computational-Physics/blob/main/CalculatingPi.ipynb\" target=\"_parent\"><img src=\"https://colab.research.google.com/assets/colab-badge.svg\" alt=\"Open In Colab\"/></a>"
      ]
    },
    {
      "cell_type": "markdown",
      "metadata": {
        "id": "Qb6Hevpn1Xuh"
      },
      "source": [
        " # Various Methods to calculate $\\pi$\n",
        " \n",
        " ### Through infinite sum\n",
        " \n",
        " \n",
        " We will use taylor series expension to obtain a  infinite sum to calculate the value of $\\pi$\n",
        " \n",
        " We know that \n",
        " $$ \\frac{d}{dx}tan^{-1}(x) = \\frac{1}{1+x^2} $$\n",
        " \n",
        " \n",
        " Integrating both side:\n",
        " $$ \\int{\\frac{d}{dx}tan^{-1}(x)} dx = \\int{\\frac{1}{1+x^2}}dx $$\n",
        " \n",
        " \n",
        " $$tan^{-1}(x) = \\int{(1 - x^2 + x^4 - x^6 + \\cdots)}dx$$\n",
        " \n",
        " \n",
        " $$tan^{-1}(x) = \\int{\\sum^{\\infty}_{n=0} (-1)^n x^{2n}}dx$$\n",
        " \n",
        " \n",
        " $$ tan^{-1}(x) = \\sum^{\\infty}_{n=0} (-1)^n \\int{x^{2n}}dx $$\n",
        " \n",
        " \n",
        " $$  tan^{-1}(x) = \\sum^{\\infty}_{n=0} (-1)^n \\frac{x^{2n+1}}{2n+1}  + C$$\n",
        " \n",
        " \n",
        " To calculate the constant C we calcute this at $x = 0$ so\n",
        " \n",
        " \n",
        " $$ tan^{-1}(0) = 0 + C $$\n",
        " $$ C = 0 $$\n",
        " \n",
        " \n",
        " At $x = 1$\n",
        " \n",
        " $$ tan^{-1}(1) = \\frac{\\pi}{4} = \\sum^{\\infty}_{n=0} (-1)^n \\frac{1}{2n+1} $$\n",
        " \n",
        " \n",
        " \\begin{equation}\n",
        "        \\pi =  \\sum_{n=0}^{\\infty} \\frac{4(-1)^n}{2n+1}\n",
        " \\end{equation}"
      ]
    },
    {
      "cell_type": "markdown",
      "metadata": {
        "id": "pWcfSn1I1Xuz"
      },
      "source": [
        "The good thing with this that this doesn't depand on anything but the number of terms we add itno the series so as much as terms we keep adding the more accurate result we will get. It turns out that we will get accuracy to one more decimal point if we ten times the number of terms... \n",
        "\n",
        "\n",
        "Here is shown a simple program to calcute $\\pi$ till as much as decimal places you want.\n",
        "\n",
        "\n",
        "But the Throwback to this method is that to get $6$ digits of accuracy we will need to perform the for loop $10$ Million times that takes time and memory uses so with this computer we can't get much out from it."
      ]
    },
    {
      "cell_type": "code",
      "metadata": {
        "scrolled": false,
        "colab": {
          "base_uri": "https://localhost:8080/"
        },
        "id": "oeFHNXee1XvC",
        "outputId": "c062c26f-9142-4be0-e7d9-fabc165a0873"
      },
      "source": [
        "a = int(input(\"Enter Number of digits after decimal you want: \"))\n",
        "max_iter = 10**(a+1)\n",
        "pi = 0\n",
        "for n in range(max_iter):\n",
        "    pi += 4*(-1)**n/(2*n+1)\n",
        "print('𝜋 = ',round(pi,a))  "
      ],
      "execution_count": 1,
      "outputs": [
        {
          "output_type": "stream",
          "text": [
            "Enter Number of digits after decimal you want: 5\n",
            "𝜋 =  3.14159\n"
          ],
          "name": "stdout"
        }
      ]
    },
    {
      "cell_type": "markdown",
      "metadata": {
        "id": "hRHsIP_x1tVK"
      },
      "source": [
        "2. Through Montecarlo Simulation\n",
        "\n",
        "Montecarlo silumation is the random number simulation to calculate $\\pi$. In this we through random number in square, and calculate how many of them actully hits in the cirle. \n",
        "\n",
        "<img src=\"https://qph.fs.quoracdn.net/main-qimg-b2f50a84e9fac359a325b93bc04a32c2\">\n",
        "\n",
        "In this examples we are throwing the random numbers into this square. SO the probablity of hitting in circle we have the ratio of areas.\n",
        "\n",
        "if $N_c$ are the points hit in the circle and $N$ is total number then:\n",
        "\n",
        "$$\\pi = \\frac{4N_c}{N}$$"
      ]
    },
    {
      "cell_type": "code",
      "metadata": {
        "colab": {
          "base_uri": "https://localhost:8080/"
        },
        "id": "eGw_zHxm1gmZ",
        "outputId": "e8c60a35-7639-4a3e-b58c-0e1d0fc55da9"
      },
      "source": [
        "import random\n",
        "N = 10000 #max points\n",
        "\n",
        "Nc = 0\n",
        "\n",
        "for i in range(N):\n",
        "    x = random.random()\n",
        "    y = random.random()\n",
        "\n",
        "    if (x**2+y**2)<1:\n",
        "        Nc += 1\n",
        "\n",
        "pi = 4*Nc/N\n",
        "print(\"pi=\",pi)"
      ],
      "execution_count": 5,
      "outputs": [
        {
          "output_type": "stream",
          "text": [
            "pi= 3.152\n"
          ],
          "name": "stdout"
        }
      ]
    },
    {
      "cell_type": "code",
      "metadata": {
        "colab": {
          "base_uri": "https://localhost:8080/"
        },
        "id": "x8xROTop4X4a",
        "outputId": "7c2c913b-e71d-4d20-a868-4decb9dee661"
      },
      "source": [
        "!git status"
      ],
      "execution_count": 6,
      "outputs": [
        {
          "output_type": "stream",
          "text": [
            "fatal: not a git repository (or any of the parent directories): .git\n"
          ],
          "name": "stdout"
        }
      ]
    },
    {
      "cell_type": "code",
      "metadata": {
        "id": "shAAm2rX499Z"
      },
      "source": [
        ""
      ],
      "execution_count": null,
      "outputs": []
    }
  ]
}